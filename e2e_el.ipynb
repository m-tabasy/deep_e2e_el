{
  "nbformat": 4,
  "nbformat_minor": 0,
  "metadata": {
    "colab": {
      "name": "e2e_el.ipynb",
      "version": "0.3.2",
      "provenance": [],
      "collapsed_sections": [
        "mpfjaJPy-fel",
        "E0hd7jfM-NTh",
        "DNxRHDO4wz0J"
      ]
    },
    "kernelspec": {
      "name": "python3",
      "display_name": "Python 3"
    },
    "accelerator": "GPU"
  },
  "cells": [
    {
      "cell_type": "markdown",
      "metadata": {
        "id": "RFDWlKWYvu8M",
        "colab_type": "text"
      },
      "source": [
        "# Entity Linking Baseline on AIDA-YAGO Dataset"
      ]
    },
    {
      "cell_type": "markdown",
      "metadata": {
        "id": "jKbDUdkw9sAT",
        "colab_type": "text"
      },
      "source": [
        "# 1. Load Libs & Data"
      ]
    },
    {
      "cell_type": "markdown",
      "metadata": {
        "id": "mpfjaJPy-fel",
        "colab_type": "text"
      },
      "source": [
        "## Install Needed Libs"
      ]
    },
    {
      "cell_type": "code",
      "metadata": {
        "id": "f4rJfvYPzy4h",
        "colab_type": "code",
        "colab": {}
      },
      "source": [
        "! pip install gensim"
      ],
      "execution_count": 0,
      "outputs": []
    },
    {
      "cell_type": "markdown",
      "metadata": {
        "id": "O7Gegg82-oFC",
        "colab_type": "text"
      },
      "source": [
        "## Mount Drive"
      ]
    },
    {
      "cell_type": "code",
      "metadata": {
        "id": "1uoOxX6b-zhL",
        "colab_type": "code",
        "outputId": "6f03ff7d-72c5-4054-dfb0-f499df45b037",
        "colab": {
          "base_uri": "https://localhost:8080/",
          "height": 122
        }
      },
      "source": [
        "from google.colab import drive\n",
        "\n",
        "drive.mount('/content/drive')\n",
        "drive_path = 'drive/My Drive/e2e_el/'"
      ],
      "execution_count": 0,
      "outputs": [
        {
          "output_type": "stream",
          "text": [
            "Go to this URL in a browser: https://accounts.google.com/o/oauth2/auth?client_id=947318989803-6bn6qk8qdgf4n4g3pfee6491hc0brc4i.apps.googleusercontent.com&redirect_uri=urn%3Aietf%3Awg%3Aoauth%3A2.0%3Aoob&scope=email%20https%3A%2F%2Fwww.googleapis.com%2Fauth%2Fdocs.test%20https%3A%2F%2Fwww.googleapis.com%2Fauth%2Fdrive%20https%3A%2F%2Fwww.googleapis.com%2Fauth%2Fdrive.photos.readonly%20https%3A%2F%2Fwww.googleapis.com%2Fauth%2Fpeopleapi.readonly&response_type=code\n",
            "\n",
            "Enter your authorization code:\n",
            "··········\n",
            "Mounted at /content/drive\n"
          ],
          "name": "stdout"
        }
      ]
    },
    {
      "cell_type": "markdown",
      "metadata": {
        "id": "E0hd7jfM-NTh",
        "colab_type": "text"
      },
      "source": [
        "## Preprocess Wikipedia Dump"
      ]
    },
    {
      "cell_type": "code",
      "metadata": {
        "id": "RBG2L2aVyN8G",
        "colab_type": "code",
        "outputId": "75093e1d-ccb1-4fdd-9699-a33dae7138fc",
        "colab": {
          "base_uri": "https://localhost:8080/",
          "height": 224
        }
      },
      "source": [
        "! wget https://dumps.wikimedia.org/archive/enwiki/20100312/enwiki-20100312-pages-articles.xml.bz2\n",
        "! cp enwiki-20100312-pages-articles.xml.bz2 drive/My\\ Drive/e2e_el/enwiki.xml.bz2"
      ],
      "execution_count": 0,
      "outputs": [
        {
          "output_type": "stream",
          "text": [
            "--2019-07-15 16:13:12--  https://dumps.wikimedia.org/archive/enwiki/20100312/enwiki-20100312-pages-articles.xml.bz2\n",
            "Resolving dumps.wikimedia.org (dumps.wikimedia.org)... 208.80.155.106, 2620:0:861:4:208:80:155:106\n",
            "Connecting to dumps.wikimedia.org (dumps.wikimedia.org)|208.80.155.106|:443... connected.\n",
            "HTTP request sent, awaiting response... 200 OK\n",
            "Length: 6117881141 (5.7G) [application/octet-stream]\n",
            "Saving to: ‘enwiki-20100312-pages-articles.xml.bz2’\n",
            "\n",
            "enwiki-20100312-pag 100%[===================>]   5.70G  1.97MB/s    in 49m 29s \n",
            "\n",
            "2019-07-15 17:02:42 (1.97 MB/s) - ‘enwiki-20100312-pages-articles.xml.bz2’ saved [6117881141/6117881141]\n",
            "\n"
          ],
          "name": "stdout"
        }
      ]
    },
    {
      "cell_type": "code",
      "metadata": {
        "id": "OeqkVDVO_B0F",
        "colab_type": "code",
        "outputId": "65e12d95-f1fc-4bfb-d92c-44e19fd82efc",
        "colab": {
          "base_uri": "https://localhost:8080/",
          "height": 34
        }
      },
      "source": [
        "! cp drive/My\\ Drive/e2e_el/enwiki.xml.bz2 enwiki.xml.bz2\n",
        "! bzip2 -dk -v enwiki.xml.bz2"
      ],
      "execution_count": 0,
      "outputs": [
        {
          "output_type": "stream",
          "text": [
            "  enwiki.xml.bz2: done\n"
          ],
          "name": "stdout"
        }
      ]
    },
    {
      "cell_type": "code",
      "metadata": {
        "id": "ZHXGyo7Q9KD4",
        "colab_type": "code",
        "colab": {}
      },
      "source": [
        "! python WikiExtractor.py enwiki.xml -o enwiki -l --no_templates --processes 4 -q"
      ],
      "execution_count": 0,
      "outputs": []
    },
    {
      "cell_type": "code",
      "metadata": {
        "id": "MgU7ahEt9dj1",
        "colab_type": "code",
        "colab": {}
      },
      "source": [
        "# python 2.7\n",
        "\n",
        "import os\n",
        "\n",
        "def merge(in_dir, out_path):\n",
        "        \n",
        "    with open(out_path, 'w') as out_file:\n",
        "        \n",
        "        for sub_dir in sorted(os.listdir(in_dir)):\n",
        "            print sub_dir, \n",
        "            file_dir = in_dir + '/' + sub_dir\n",
        "            \n",
        "            for in_name in sorted(os.listdir(file_dir)):\n",
        "                with open(file_dir + '/' + in_name, 'r') as in_file:\n",
        "                    for line in in_file:\n",
        "                        out_file.write(line)"
      ],
      "execution_count": 0,
      "outputs": []
    },
    {
      "cell_type": "code",
      "metadata": {
        "id": "D4bScOIC9egE",
        "colab_type": "code",
        "outputId": "fae6b359-08c9-4de3-c2fd-bcdb6a5a16ef",
        "colab": {
          "base_uri": "https://localhost:8080/",
          "height": 54
        }
      },
      "source": [
        "merge(in_dir='enwiki', out_path='enwiki_full.txt')"
      ],
      "execution_count": 0,
      "outputs": [
        {
          "output_type": "stream",
          "text": [
            "AA AB AC AD AE AF AG AH AI AJ AK AL AM AN AO AP AQ AR AS AT AU AV AW AX AY AZ BA BB BC BD BE BF BG BH BI BJ BK BL BM BN BO BP BQ BR BS BT BU BV BW BX BY BZ CA CB CC CD CE CF CG CH CI CJ CK CL CM CN CO CP CQ CR CS CT CU CV CW CX CY CZ DA DB DC DD DE DF DG DH DI DJ\n"
          ],
          "name": "stdout"
        }
      ]
    },
    {
      "cell_type": "code",
      "metadata": {
        "id": "vjuwD689VYbx",
        "colab_type": "code",
        "colab": {}
      },
      "source": [
        "! cp enwiki_full.txt drive/My\\ Drive/e2e_el/enwiki_links_full.txt"
      ],
      "execution_count": 0,
      "outputs": []
    },
    {
      "cell_type": "markdown",
      "metadata": {
        "id": "iecmhAg3s0Wb",
        "colab_type": "text"
      },
      "source": [
        "## Load Pretrained FastText"
      ]
    },
    {
      "cell_type": "code",
      "metadata": {
        "id": "j78ZsqPOoSA0",
        "colab_type": "code",
        "colab": {}
      },
      "source": [
        "# ! wget https://dl.fbaipublicfiles.com/fasttext/vectors-wiki/wiki.en.zip\n",
        "# ! wget https://dl.fbaipublicfiles.com/fasttext/vectors-wiki/wiki.simple.zip\n",
        "# ! unzip wiki.simple.zip"
      ],
      "execution_count": 0,
      "outputs": []
    },
    {
      "cell_type": "code",
      "metadata": {
        "id": "ofn60TjOtk7S",
        "colab_type": "code",
        "colab": {}
      },
      "source": [
        "# ! cp wiki.simple.bin drive/My\\ Drive/e2e_el/wiki.simple.bin\n",
        "! cp drive/My\\ Drive/e2e_el/wiki.simple.bin wiki.simple.bin"
      ],
      "execution_count": 0,
      "outputs": []
    },
    {
      "cell_type": "code",
      "metadata": {
        "id": "8xm_Feu45myI",
        "colab_type": "code",
        "colab": {}
      },
      "source": [
        "from gensim.models.wrappers import FastText\n",
        "\n",
        "ft = FastText.load_fasttext_format('wiki.simple.bin')"
      ],
      "execution_count": 0,
      "outputs": []
    },
    {
      "cell_type": "markdown",
      "metadata": {
        "id": "ohQePvLOm7cq",
        "colab_type": "text"
      },
      "source": [
        "## Load Wiki Entities"
      ]
    },
    {
      "cell_type": "code",
      "metadata": {
        "id": "nbj-ZaZ1qEDq",
        "colab_type": "code",
        "outputId": "f6e6fa3f-ef5a-4750-fa87-0c850508550a",
        "colab": {
          "base_uri": "https://localhost:8080/",
          "height": 34
        }
      },
      "source": [
        "! cp drive/My\\ Drive/e2e_el/enwiki_links_full.txt enwiki_full.txt\n",
        "# ! cp drive/My\\ Drive/e2e_el/entities.pickle entities.pickle "
      ],
      "execution_count": 0,
      "outputs": [
        {
          "output_type": "stream",
          "text": [
            "cp: cannot stat 'drive/My Drive/e2e_el/entities.pickle': No such file or directory\n"
          ],
          "name": "stdout"
        }
      ]
    },
    {
      "cell_type": "code",
      "metadata": {
        "id": "aMdW2cCOwNIH",
        "colab_type": "code",
        "colab": {}
      },
      "source": [
        "import sys\n",
        "from importlib import reload\n",
        "\n",
        "sys.path.append('/content/drive/My Drive/colab_utils/')"
      ],
      "execution_count": 0,
      "outputs": []
    },
    {
      "cell_type": "code",
      "metadata": {
        "id": "MLOPwwm1ECt4",
        "colab_type": "code",
        "outputId": "fed2d875-18ae-4714-ec32-fba8026f85cc",
        "colab": {
          "base_uri": "https://localhost:8080/",
          "height": 34
        }
      },
      "source": [
        "import process_wiki\n",
        "\n",
        "process_wiki = reload(process_wiki)\n",
        "\n",
        "ent_max = 1000000     # 10 ** 7 or 5500000\n",
        "\n",
        "name2wikiid, wikiid2name, id2wikiid, wikiid2id = process_wiki.load_entity_id_maps(\n",
        "    ent_pickle_path='entities.pickle',\n",
        "    ent_path='enwiki_full.txt',\n",
        "    ent_max=ent_max)\n",
        "\n",
        "ent_size = len(wikiid2id)"
      ],
      "execution_count": 0,
      "outputs": [
        {
          "output_type": "stream",
          "text": [
            "loaded entities from entities.pickle\n"
          ],
          "name": "stdout"
        }
      ]
    },
    {
      "cell_type": "code",
      "metadata": {
        "id": "Aa6hnd_6-hlA",
        "colab_type": "code",
        "colab": {}
      },
      "source": [
        "# ! cp entities.pickle drive/My\\ Drive/e2e_el/entities.pickle \n",
        "# ! cp drive/My\\ Drive/e2e_el/mentions.pickle mentions.pickle"
      ],
      "execution_count": 0,
      "outputs": []
    },
    {
      "cell_type": "code",
      "metadata": {
        "id": "MVV5ouymw3Hb",
        "colab_type": "code",
        "outputId": "c4f1c125-edc4-4be0-bd46-3caa1114c1bb",
        "colab": {
          "base_uri": "https://localhost:8080/",
          "height": 68
        }
      },
      "source": [
        "%%time\n",
        "\n",
        "import gen_mention\n",
        "\n",
        "gen_mention = reload(gen_mention)\n",
        "\n",
        "wikiid2mentions, ignored = gen_mention.load_entity_mentions_map(\n",
        "    ent_path='enwiki_full.txt', \n",
        "    name2wikiid=name2wikiid, \n",
        "    men_pickle_path='mentions.pickle', \n",
        "    ent_max=ent_max)"
      ],
      "execution_count": 0,
      "outputs": [
        {
          "output_type": "stream",
          "text": [
            "loaded mentions from mentions.pickle\n",
            "CPU times: user 6.67 s, sys: 1.02 s, total: 7.69 s\n",
            "Wall time: 7.75 s\n"
          ],
          "name": "stdout"
        }
      ]
    },
    {
      "cell_type": "code",
      "metadata": {
        "id": "cE30uGUuWr_9",
        "colab_type": "code",
        "outputId": "71066336-09be-407d-9dab-1c4dcb745a8f",
        "colab": {
          "base_uri": "https://localhost:8080/",
          "height": 34
        }
      },
      "source": [
        "# ! cp mentions.pickle drive/My\\ Drive/e2e_el/mentions.pickle\n",
        "len(ignored), len(wikiid2mentions), len(wikiid2id)"
      ],
      "execution_count": 0,
      "outputs": [
        {
          "output_type": "execute_result",
          "data": {
            "text/plain": [
              "(0, 667510, 1000000)"
            ]
          },
          "metadata": {
            "tags": []
          },
          "execution_count": 5
        }
      ]
    },
    {
      "cell_type": "code",
      "metadata": {
        "id": "fw1Z1uqn9Ach",
        "colab_type": "code",
        "outputId": "0e7c1e66-4f64-4b6d-b877-6e3bc8274c2e",
        "colab": {
          "base_uri": "https://localhost:8080/",
          "height": 68
        }
      },
      "source": [
        "%%time\n",
        "\n",
        "import numpy as np\n",
        "\n",
        "gen_mention = reload(gen_mention)\n",
        "\n",
        "emb_size = 300\n",
        "\n",
        "ent_men_emb = gen_mention.gen_entity_mention_vec(\n",
        "    wikiid2mentions,\n",
        "    id2wikiid, wikiid2name,\n",
        "    emb_model=ft, emb_size=emb_size,\n",
        "    alpha=0.2)\n",
        "\n",
        "ent_men_emb.shape"
      ],
      "execution_count": 0,
      "outputs": [
        {
          "output_type": "stream",
          "text": [
            "[===================================================] 100% done!\n",
            "CPU times: user 11min 7s, sys: 12.2 s, total: 11min 20s\n",
            "Wall time: 11min 19s\n"
          ],
          "name": "stdout"
        }
      ]
    },
    {
      "cell_type": "code",
      "metadata": {
        "id": "43WSIOV3hKYY",
        "colab_type": "code",
        "outputId": "1d9a229a-3982-4311-93f3-75f7de7a5a02",
        "colab": {
          "base_uri": "https://localhost:8080/",
          "height": 204
        }
      },
      "source": [
        "wikiid2name[id2wikiid[0]], ft.similar_by_vector(ent_men_emb[0])"
      ],
      "execution_count": 0,
      "outputs": [
        {
          "output_type": "execute_result",
          "data": {
            "text/plain": [
              "('UNK_E',\n",
              " [('hcalendar', 0.0),\n",
              "  ('chía', 0.0),\n",
              "  ('deportiva', 0.0),\n",
              "  ('tufnell', 0.0),\n",
              "  ('frasin', 0.0),\n",
              "  ('jumpsuit', 0.0),\n",
              "  ('berankis', 0.0),\n",
              "  ('evolutionist', 0.0),\n",
              "  ('mdv', 0.0),\n",
              "  ('morgen', 0.0)])"
            ]
          },
          "metadata": {
            "tags": []
          },
          "execution_count": 42
        }
      ]
    },
    {
      "cell_type": "markdown",
      "metadata": {
        "id": "tgupC8y2-UNe",
        "colab_type": "text"
      },
      "source": [
        "## Prepare AIDA-YAGO Dataset"
      ]
    },
    {
      "cell_type": "code",
      "metadata": {
        "id": "GlzcDwp_sTdU",
        "colab_type": "code",
        "colab": {}
      },
      "source": [
        "! cp drive/My\\ Drive/e2e_el/aida-yago2-dataset.tsv aida-yago2-dataset.tsv\n",
        "# ! wget http://resources.mpi-inf.mpg.de/yago-naga/aida/download/aida_means.tsv.bz2\n",
        "# ! bzip2 -dk aida_means.tsv.bz2"
      ],
      "execution_count": 0,
      "outputs": []
    },
    {
      "cell_type": "code",
      "metadata": {
        "id": "e3eSweffwPRX",
        "colab_type": "code",
        "outputId": "5b1cfacd-0534-4c4e-a00e-d844dc7875b2",
        "colab": {
          "base_uri": "https://localhost:8080/",
          "height": 34
        }
      },
      "source": [
        "import sys\n",
        "import process_aida\n",
        "from importlib import reload\n",
        "\n",
        "sys.path.insert(0, '/content/drive/My Drive/colab_utils/')\n",
        "process_aida = reload(process_aida)\n",
        "\n",
        "process_aida.split_aida(aida_path='aida-yago2-dataset.tsv')"
      ],
      "execution_count": 0,
      "outputs": [
        {
          "output_type": "stream",
          "text": [
            "aida splitted to aida-train.tsv, aida-testa.tsv, aida-testb.tsv\n"
          ],
          "name": "stdout"
        }
      ]
    },
    {
      "cell_type": "code",
      "metadata": {
        "id": "qLfuQhwHbhqj",
        "colab_type": "code",
        "outputId": "66148da0-0dc2-4a2f-fa27-2e2562fed93e",
        "colab": {
          "base_uri": "https://localhost:8080/",
          "height": 34
        }
      },
      "source": [
        "import process_aida\n",
        "process_aida = reload(process_aida)\n",
        "\n",
        "from keras.preprocessing.sequence import pad_sequences\n",
        "from keras.utils import to_categorical\n",
        "\n",
        "\n",
        "def pad_data(x, iob, y, w, l, include_mention=True, ib_w=2):\n",
        "  \n",
        "  data_x = pad_sequences(x, maxlen=max(l), value=0, dtype=np.float16,\n",
        "                             padding='post', truncating='post')\n",
        "  data_iob = pad_sequences(iob, maxlen=max(l), value=0, dtype=np.int32,\n",
        "                         padding='post', truncating='post')\n",
        "  \n",
        "  if include_mention:\n",
        "    \n",
        "    data_w = {\n",
        "    'iob_output': np.ones(data_iob.shape),\n",
        "    'mention_output': np.ones(data_iob.shape),\n",
        "    }\n",
        "    data_w['iob_output'][data_iob > 0] = ib_w\n",
        "    data_w['mention_output'][data_iob > 0] = ib_w\n",
        "\n",
        "    data_iob = to_categorical(data_iob, num_classes=3, dtype=np.int32)\n",
        "    data_y = pad_sequences(y, maxlen=max(l), value=0, dtype=np.float16,\n",
        "                           padding='post', truncating='post')\n",
        "  \n",
        "    return data_x, [data_iob, data_y], data_w\n",
        "  \n",
        "  else:\n",
        "    \n",
        "    data_w = np.ones(data_iob.shape)\n",
        "    data_w[data_iob > 0] = ib_w\n",
        "\n",
        "    data_iob = to_categorical(data_iob, num_classes=3, dtype=np.int32)\n",
        "\n",
        "    return data_x, data_iob, data_w\n",
        "\n",
        "  \n",
        "def padded_gen(data_path, include_mention=True, batch_size=32, begin_inside_weight=2):\n",
        "  \n",
        "  global ft, wikiid2id, ent_men_emb\n",
        "  \n",
        "  while True:\n",
        "    gen = process_aida.gen_el_data_vecs(aida_path=data_path,\n",
        "                                            word_vecs=ft, wiki2id=wikiid2id,\n",
        "                                            ent_vecs=ent_men_emb)\n",
        "\n",
        "    data_x, data_iob, data_y, data_w, lengths = [], [], [], [], []\n",
        "\n",
        "    size = 0\n",
        "\n",
        "    for (tokens, iobs, mentions) in gen:\n",
        "      lengths.append(len(tokens))\n",
        "      data_x.append(tokens)\n",
        "      data_iob.append(iobs)\n",
        "      data_y.append(mentions)\n",
        "\n",
        "      size += 1\n",
        "\n",
        "      if size % batch_size == 0:\n",
        "\n",
        "        data_x, data_y, data_w = pad_data(\n",
        "            data_x, data_iob, data_y, data_w, lengths, include_mention, begin_inside_weight)\n",
        "\n",
        "        yield data_x, data_y, data_w\n",
        "\n",
        "        data_x, data_iob, data_y, data_w, lengths = [], [], [], [], []\n",
        "\n",
        "    if size % batch_size != 0:\n",
        "\n",
        "      data_x, data_y, data_w = pad_data(\n",
        "        data_x, data_iob, data_y, data_w, lengths)\n",
        "\n",
        "      yield data_x, data_y, data_w"
      ],
      "execution_count": 0,
      "outputs": [
        {
          "output_type": "stream",
          "text": [
            "Using TensorFlow backend.\n"
          ],
          "name": "stderr"
        }
      ]
    },
    {
      "cell_type": "code",
      "metadata": {
        "id": "vbWxq6lPQ_FT",
        "colab_type": "code",
        "colab": {}
      },
      "source": [
        "for x, y, w in padded_gen('aida-testa.tsv', batch_size=32):\n",
        "  print(y[1])\n",
        "  break"
      ],
      "execution_count": 0,
      "outputs": []
    },
    {
      "cell_type": "markdown",
      "metadata": {
        "id": "6vTT6M2799Ed",
        "colab_type": "text"
      },
      "source": [
        "# 2. Define Baseline Model"
      ]
    },
    {
      "cell_type": "markdown",
      "metadata": {
        "id": "DNxRHDO4wz0J",
        "colab_type": "text"
      },
      "source": [
        "## extras"
      ]
    },
    {
      "cell_type": "code",
      "metadata": {
        "id": "i0VF6IMvJRtV",
        "colab_type": "code",
        "colab": {}
      },
      "source": [
        "from keras import backend as K\n",
        "\n",
        "def f1(y_true, y_pred):\n",
        "  \n",
        "    def recall(y_true, y_pred):\n",
        "        true_positives = K.sum(K.round(K.clip(y_true * y_pred, 0, 1)))\n",
        "        possible_positives = K.sum(K.round(K.clip(y_true, 0, 1)))\n",
        "        recall = true_positives / (possible_positives + K.epsilon())\n",
        "        return recall\n",
        "\n",
        "    def precision(y_true, y_pred):\n",
        "        true_positives = K.sum(K.round(K.clip(y_true * y_pred, 0, 1)))\n",
        "        predicted_positives = K.sum(K.round(K.clip(y_pred, 0, 1)))\n",
        "        precision = true_positives / (predicted_positives + K.epsilon())\n",
        "        return precision\n",
        "      \n",
        "    precision = precision(y_true, y_pred)\n",
        "    recall = recall(y_true, y_pred)\n",
        "    return 2*((precision*recall)/(precision+recall+K.epsilon()))"
      ],
      "execution_count": 0,
      "outputs": []
    },
    {
      "cell_type": "code",
      "metadata": {
        "id": "ddYT64ntRT4t",
        "colab_type": "code",
        "colab": {}
      },
      "source": [
        "import keras.backend as K\n",
        "\n",
        "iobs = K.random_normal_variable(shape=(20, 3), mean=0, scale=1)\n",
        "words = K.random_normal_variable(shape=(20, 100), mean=0, scale=1)"
      ],
      "execution_count": 0,
      "outputs": []
    },
    {
      "cell_type": "code",
      "metadata": {
        "id": "BwFxsUabRb8v",
        "colab_type": "code",
        "outputId": "bb669cd1-464d-4e3d-a200-5122d7f88e6b",
        "colab": {
          "base_uri": "https://localhost:8080/",
          "height": 51
        }
      },
      "source": [
        "xy = K.dot(x, y)\n",
        "\n",
        "with K.get_session().as_default():\n",
        "#   print(iobs.eval())\n",
        "  ibs = iobs[:, 1:]\n",
        "  max_ib = K.max(iobs, axis=-1)\n",
        "  expanded_max_ib = K.repeat_elements(K.expand_dims(max_ib, axis=-1), rep=K.int_shape(words)[-1], axis=-1)\n",
        "  print(max_ib.eval().shape, expanded_max_ib.eval().shape)\n",
        "  output = expanded_max_ib * words\n",
        "  print(output.eval().shape)"
      ],
      "execution_count": 0,
      "outputs": [
        {
          "output_type": "stream",
          "text": [
            "(20,) (20, 100)\n",
            "(20, 100)\n"
          ],
          "name": "stdout"
        }
      ]
    },
    {
      "cell_type": "markdown",
      "metadata": {
        "id": "AyeAC4AOrgUY",
        "colab_type": "text"
      },
      "source": [
        "## Design & Train Mention Detector"
      ]
    },
    {
      "cell_type": "code",
      "metadata": {
        "id": "EGO24-ZFOjcs",
        "colab_type": "code",
        "colab": {}
      },
      "source": [
        "import keras.backend as K\n",
        "\n",
        "def filter_words_by_iob(x):\n",
        "  \n",
        "  words = x[0]\n",
        "  ibs = x[1][:, :, 1:]  # batch_idx, word_idx, iob\n",
        "  \n",
        "  emb_size = K.int_shape(words)[-1]\n",
        "  \n",
        "  max_ib = K.max(ibs, axis=-1)\n",
        "  expanded_max_ib = K.expand_dims(max_ib, axis=-1)\n",
        "  repeated_max_ib = K.repeat_elements(expanded_max_ib, rep=emb_size, axis=-1)\n",
        "  \n",
        "  return expanded_max_ib * words"
      ],
      "execution_count": 0,
      "outputs": []
    },
    {
      "cell_type": "code",
      "metadata": {
        "id": "tVO4Edzgy-X0",
        "colab_type": "code",
        "outputId": "e6e38707-80cd-48f6-d09d-3360cb09cb46",
        "colab": {
          "base_uri": "https://localhost:8080/",
          "height": 649
        }
      },
      "source": [
        "from keras.models import Model, Input\n",
        "from keras.layers import LSTM, GRU, Embedding, Dense, TimeDistributed, Dropout, Bidirectional, Concatenate, Lambda\n",
        "\n",
        "\n",
        "word_embs = Input(shape=(None, 300), name='input')\n",
        "x = Bidirectional(GRU(units=300, return_sequences=True, recurrent_dropout=0.1), name='bigru')(word_embs)\n",
        "x = Bidirectional(LSTM(units=30, return_sequences=True, recurrent_dropout=0.1), name='bilstm')(x)\n",
        "iob_output = TimeDistributed(Dense(3, activation='softmax'), name='iob_output')(x)\n",
        "\n",
        "filtered_words = Lambda(filter_words_by_iob, name='filtered_words')([word_embs, iob_output])\n",
        "mention_output = LSTM(units=300, return_sequences=True, recurrent_dropout=0.1, name='mention_output')(filtered_words)\n",
        "\n",
        "losses = {\n",
        "\t'iob_output': 'categorical_crossentropy',\n",
        "\t'mention_output': 'mse',\n",
        "}\n",
        "lossWeights = {'iob_output': 1.0, 'mention_output': 10.0}\n",
        "\n",
        "\n",
        "model = Model(word_embs, [iob_output, mention_output])\n",
        "\n",
        "model.compile(optimizer='adam', loss=losses, loss_weights=lossWeights,\n",
        "              sample_weight_mode='temporal')\n",
        "model.summary()"
      ],
      "execution_count": 0,
      "outputs": [
        {
          "output_type": "stream",
          "text": [
            "WARNING: Logging before flag parsing goes to stderr.\n",
            "W0718 19:31:56.470701 139814515033984 deprecation_wrapper.py:119] From /usr/local/lib/python3.6/dist-packages/keras/backend/tensorflow_backend.py:517: The name tf.placeholder is deprecated. Please use tf.compat.v1.placeholder instead.\n",
            "\n",
            "W0718 19:31:56.512042 139814515033984 deprecation_wrapper.py:119] From /usr/local/lib/python3.6/dist-packages/keras/backend/tensorflow_backend.py:74: The name tf.get_default_graph is deprecated. Please use tf.compat.v1.get_default_graph instead.\n",
            "\n",
            "W0718 19:31:56.514128 139814515033984 deprecation_wrapper.py:119] From /usr/local/lib/python3.6/dist-packages/keras/backend/tensorflow_backend.py:4138: The name tf.random_uniform is deprecated. Please use tf.random.uniform instead.\n",
            "\n",
            "W0718 19:31:56.862503 139814515033984 deprecation_wrapper.py:119] From /usr/local/lib/python3.6/dist-packages/keras/backend/tensorflow_backend.py:133: The name tf.placeholder_with_default is deprecated. Please use tf.compat.v1.placeholder_with_default instead.\n",
            "\n",
            "W0718 19:31:56.872943 139814515033984 deprecation.py:506] From /usr/local/lib/python3.6/dist-packages/keras/backend/tensorflow_backend.py:3445: calling dropout (from tensorflow.python.ops.nn_ops) with keep_prob is deprecated and will be removed in a future version.\n",
            "Instructions for updating:\n",
            "Please use `rate` instead of `keep_prob`. Rate should be set to `rate = 1 - keep_prob`.\n",
            "W0718 19:31:59.043739 139814515033984 deprecation_wrapper.py:119] From /usr/local/lib/python3.6/dist-packages/keras/optimizers.py:790: The name tf.train.Optimizer is deprecated. Please use tf.compat.v1.train.Optimizer instead.\n",
            "\n",
            "W0718 19:31:59.069330 139814515033984 deprecation_wrapper.py:119] From /usr/local/lib/python3.6/dist-packages/keras/backend/tensorflow_backend.py:3295: The name tf.log is deprecated. Please use tf.math.log instead.\n",
            "\n"
          ],
          "name": "stderr"
        },
        {
          "output_type": "stream",
          "text": [
            "__________________________________________________________________________________________________\n",
            "Layer (type)                    Output Shape         Param #     Connected to                     \n",
            "==================================================================================================\n",
            "input (InputLayer)              (None, None, 300)    0                                            \n",
            "__________________________________________________________________________________________________\n",
            "bigru (Bidirectional)           (None, None, 600)    1081800     input[0][0]                      \n",
            "__________________________________________________________________________________________________\n",
            "bilstm (Bidirectional)          (None, None, 60)     151440      bigru[0][0]                      \n",
            "__________________________________________________________________________________________________\n",
            "iob_output (TimeDistributed)    (None, None, 3)      183         bilstm[0][0]                     \n",
            "__________________________________________________________________________________________________\n",
            "filtered_words (Lambda)         (None, None, 300)    0           input[0][0]                      \n",
            "                                                                 iob_output[0][0]                 \n",
            "__________________________________________________________________________________________________\n",
            "mention_output (LSTM)           (None, None, 300)    721200      filtered_words[0][0]             \n",
            "==================================================================================================\n",
            "Total params: 1,954,623\n",
            "Trainable params: 1,954,623\n",
            "Non-trainable params: 0\n",
            "__________________________________________________________________________________________________\n"
          ],
          "name": "stdout"
        }
      ]
    },
    {
      "cell_type": "code",
      "metadata": {
        "id": "hswP6hrHK4aX",
        "colab_type": "code",
        "outputId": "dd397857-daf0-4164-c7b3-e97187890db7",
        "colab": {
          "base_uri": "https://localhost:8080/",
          "height": 768
        }
      },
      "source": [
        "train_path = 'aida-train.tsv'\n",
        "valid_path = 'aida-testa.tsv'\n",
        "\n",
        "history = model.fit_generator(\n",
        "    padded_gen(train_path, batch_size=32, begin_inside_weight=4),\n",
        "    steps_per_epoch = 30,\n",
        "    validation_data=padded_gen(valid_path, batch_size=32, begin_inside_weight=4),\n",
        "    validation_steps=7,\n",
        "    epochs=20, verbose=1,\n",
        "    initial_epoch=0)"
      ],
      "execution_count": 0,
      "outputs": [
        {
          "output_type": "stream",
          "text": [
            "W0718 19:31:59.383495 139814515033984 deprecation.py:323] From /usr/local/lib/python3.6/dist-packages/tensorflow/python/ops/math_grad.py:1250: add_dispatch_support.<locals>.wrapper (from tensorflow.python.ops.array_ops) is deprecated and will be removed in a future version.\n",
            "Instructions for updating:\n",
            "Use tf.where in 2.0, which has the same broadcast rule as np.where\n"
          ],
          "name": "stderr"
        },
        {
          "output_type": "stream",
          "text": [
            "Epoch 1/20\n",
            "30/30 [==============================] - 164s 5s/step - loss: 0.6945 - iob_output_loss: 0.6334 - mention_output_loss: 0.0061 - val_loss: 0.3143 - val_iob_output_loss: 0.2686 - val_mention_output_loss: 0.0046\n",
            "Epoch 2/20\n",
            "30/30 [==============================] - 153s 5s/step - loss: 0.2912 - iob_output_loss: 0.2368 - mention_output_loss: 0.0054 - val_loss: 0.2004 - val_iob_output_loss: 0.1589 - val_mention_output_loss: 0.0041\n",
            "Epoch 3/20\n",
            "30/30 [==============================] - 154s 5s/step - loss: 0.2162 - iob_output_loss: 0.1655 - mention_output_loss: 0.0051 - val_loss: 0.1704 - val_iob_output_loss: 0.1307 - val_mention_output_loss: 0.0040\n",
            "Epoch 4/20\n",
            "30/30 [==============================] - 153s 5s/step - loss: 0.1887 - iob_output_loss: 0.1402 - mention_output_loss: 0.0049 - val_loss: 0.1532 - val_iob_output_loss: 0.1148 - val_mention_output_loss: 0.0038\n",
            "Epoch 5/20\n",
            "30/30 [==============================] - 153s 5s/step - loss: 0.1732 - iob_output_loss: 0.1263 - mention_output_loss: 0.0047 - val_loss: 0.1384 - val_iob_output_loss: 0.1010 - val_mention_output_loss: 0.0037\n",
            "Epoch 6/20\n",
            "30/30 [==============================] - 153s 5s/step - loss: 0.1571 - iob_output_loss: 0.1115 - mention_output_loss: 0.0046 - val_loss: 0.1268 - val_iob_output_loss: 0.0902 - val_mention_output_loss: 0.0037\n",
            "Epoch 7/20\n",
            "30/30 [==============================] - 153s 5s/step - loss: 0.1456 - iob_output_loss: 0.1011 - mention_output_loss: 0.0045 - val_loss: 0.1205 - val_iob_output_loss: 0.0846 - val_mention_output_loss: 0.0036\n",
            "Epoch 8/20\n",
            "30/30 [==============================] - 153s 5s/step - loss: 0.1359 - iob_output_loss: 0.0924 - mention_output_loss: 0.0044 - val_loss: 0.1163 - val_iob_output_loss: 0.0810 - val_mention_output_loss: 0.0035\n",
            "Epoch 9/20\n",
            "30/30 [==============================] - 153s 5s/step - loss: 0.1279 - iob_output_loss: 0.0853 - mention_output_loss: 0.0043 - val_loss: 0.1104 - val_iob_output_loss: 0.0754 - val_mention_output_loss: 0.0035\n",
            "Epoch 10/20\n",
            "30/30 [==============================] - 151s 5s/step - loss: 0.1212 - iob_output_loss: 0.0793 - mention_output_loss: 0.0042 - val_loss: 0.1088 - val_iob_output_loss: 0.0743 - val_mention_output_loss: 0.0034\n",
            "Epoch 11/20\n",
            "30/30 [==============================] - 151s 5s/step - loss: 0.1160 - iob_output_loss: 0.0748 - mention_output_loss: 0.0041 - val_loss: 0.1074 - val_iob_output_loss: 0.0732 - val_mention_output_loss: 0.0034\n",
            "Epoch 12/20\n",
            "30/30 [==============================] - 151s 5s/step - loss: 0.1109 - iob_output_loss: 0.0704 - mention_output_loss: 0.0041 - val_loss: 0.1060 - val_iob_output_loss: 0.0720 - val_mention_output_loss: 0.0034\n",
            "Epoch 13/20\n",
            "30/30 [==============================] - 152s 5s/step - loss: 0.1048 - iob_output_loss: 0.0649 - mention_output_loss: 0.0040 - val_loss: 0.1005 - val_iob_output_loss: 0.0668 - val_mention_output_loss: 0.0034\n",
            "Epoch 14/20\n",
            "30/30 [==============================] - 151s 5s/step - loss: 0.1034 - iob_output_loss: 0.0638 - mention_output_loss: 0.0040 - val_loss: 0.1010 - val_iob_output_loss: 0.0674 - val_mention_output_loss: 0.0034\n",
            "Epoch 15/20\n",
            "30/30 [==============================] - 151s 5s/step - loss: 0.1039 - iob_output_loss: 0.0649 - mention_output_loss: 0.0039 - val_loss: 0.1028 - val_iob_output_loss: 0.0694 - val_mention_output_loss: 0.0033\n",
            "Epoch 16/20\n",
            "30/30 [==============================] - 151s 5s/step - loss: 0.0995 - iob_output_loss: 0.0609 - mention_output_loss: 0.0039 - val_loss: 0.1120 - val_iob_output_loss: 0.0785 - val_mention_output_loss: 0.0033\n",
            "Epoch 17/20\n",
            "30/30 [==============================] - 151s 5s/step - loss: 0.0919 - iob_output_loss: 0.0538 - mention_output_loss: 0.0038 - val_loss: 0.1041 - val_iob_output_loss: 0.0708 - val_mention_output_loss: 0.0033\n",
            "Epoch 18/20\n",
            "30/30 [==============================] - 151s 5s/step - loss: 0.0875 - iob_output_loss: 0.0497 - mention_output_loss: 0.0038 - val_loss: 0.1078 - val_iob_output_loss: 0.0749 - val_mention_output_loss: 0.0033\n",
            "Epoch 19/20\n",
            "30/30 [==============================] - 151s 5s/step - loss: 0.0831 - iob_output_loss: 0.0455 - mention_output_loss: 0.0038 - val_loss: 0.1046 - val_iob_output_loss: 0.0718 - val_mention_output_loss: 0.0033\n",
            "Epoch 20/20\n",
            "30/30 [==============================] - 151s 5s/step - loss: 0.0802 - iob_output_loss: 0.0430 - mention_output_loss: 0.0037 - val_loss: 0.1092 - val_iob_output_loss: 0.0765 - val_mention_output_loss: 0.0033\n"
          ],
          "name": "stdout"
        }
      ]
    },
    {
      "cell_type": "code",
      "metadata": {
        "id": "wDCqkz9R1oFI",
        "colab_type": "code",
        "colab": {}
      },
      "source": [
        "model.save('el_mention_model.h5')\n",
        "! cp el_mention_model.h5 drive/My\\ Drive/e2e_el/el_mention_model.h5"
      ],
      "execution_count": 0,
      "outputs": []
    },
    {
      "cell_type": "code",
      "metadata": {
        "id": "nIkW96z8fP5z",
        "colab_type": "code",
        "outputId": "e747468c-b3ea-4312-85f4-f70f1624e8f0",
        "colab": {
          "base_uri": "https://localhost:8080/",
          "height": 298
        }
      },
      "source": [
        "from matplotlib import pyplot as plt\n",
        "from pylab import rcParams\n",
        "\n",
        "rcParams['figure.figsize'] = 12, 4\n",
        "\n",
        "plt.subplot(1, 2, 1)\n",
        "plt.title('Mention Loss per epoch')\n",
        "plt.plot(history.history['mention_output_loss'], 'b.')\n",
        "plt.plot(history.history['val_mention_output_loss'], 'b-')\n",
        "\n",
        "plt.subplot(1, 2, 2)\n",
        "plt.title('IOB Loss per epoch')\n",
        "plt.plot(history.history['iob_output_loss'], 'b.')\n",
        "plt.plot(history.history['val_iob_output_loss'], 'b-')"
      ],
      "execution_count": 0,
      "outputs": [
        {
          "output_type": "execute_result",
          "data": {
            "text/plain": [
              "[<matplotlib.lines.Line2D at 0x7f27e053a6d8>]"
            ]
          },
          "metadata": {
            "tags": []
          },
          "execution_count": 13
        },
        {
          "output_type": "display_data",
          "data": {
            "image/png": "[encoded data removed]",
            "text/plain": [
              "<Figure size 864x288 with 2 Axes>"
            ]
          },
          "metadata": {
            "tags": []
          }
        }
      ]
    },
    {
      "cell_type": "markdown",
      "metadata": {
        "id": "Vj3wSVIVrsRo",
        "colab_type": "text"
      },
      "source": [
        "## Simple Entity Disambiguator"
      ]
    },
    {
      "cell_type": "code",
      "metadata": {
        "id": "VvsLH3wYDhY6",
        "colab_type": "code",
        "colab": {}
      },
      "source": [
        "from gensim.utils import tokenize\n",
        "from scipy.spatial import distance\n",
        "\n",
        "\n",
        "def predict_entities(doc):\n",
        "  \n",
        "  global ft, model, ent_men_emb, id2wikiid, wikiid2name\n",
        "  \n",
        "  tokens = tokenize(doc, deacc=True)\n",
        "  word_embs = []\n",
        "  \n",
        "  for token in tokens:\n",
        "    if token in ft:\n",
        "      word_embs.append(ft[token])\n",
        "    else:\n",
        "      word_embs.append(ft['unk'])\n",
        "      \n",
        "  word_embs = np.array(word_embs)\n",
        "\n",
        "  iobs, mentions = model.predict(word_embs.reshape(1, -1, 300), batch_size=1)\n",
        "  iobs = np.argmax(iobs.reshape(-1, 3)[:word_embs.shape[0]], axis=-1)\n",
        "  mentions = mentions.reshape(-1, 300)\n",
        "    \n",
        "  best = {}\n",
        "  \n",
        "  start, end = -1, -1\n",
        "  \n",
        "  for i, iob in enumerate(iobs):\n",
        "    \n",
        "    if iob == 1:\n",
        "      start = i\n",
        "      \n",
        "    if iob in [1, 2] and (len(iobs) <= i+1 or iobs[i+1] in [0, 1]):\n",
        "      \n",
        "      end = i\n",
        "      \n",
        "      mention = mentions[i]\n",
        "      \n",
        "      distances = distance.cdist([mention], ent_men_emb[1:], 'cosine')\n",
        "      eid = 1 + np.argmin(distances)\n",
        "      wikiid = id2wikiid[eid]\n",
        "      name = wikiid2name[wikiid]\n",
        "      \n",
        "      best[f'{start}:{end}'] = wikiid\n",
        "  \n",
        "  return best"
      ],
      "execution_count": 0,
      "outputs": []
    },
    {
      "cell_type": "code",
      "metadata": {
        "id": "RV8mfletEEXn",
        "colab_type": "code",
        "outputId": "eba8aba3-647a-43b9-b885-d263c68c6938",
        "colab": {
          "base_uri": "https://localhost:8080/",
          "height": 34
        }
      },
      "source": [
        "predict_entities('Ali daei scored 104-th goal for Bayern Munich in barcelona')"
      ],
      "execution_count": 0,
      "outputs": [
        {
          "output_type": "execute_result",
          "data": {
            "text/plain": [
              "{'0:1': 196804, '6:8': 172326, '9:9': 68187}"
            ]
          },
          "metadata": {
            "tags": []
          },
          "execution_count": 16
        }
      ]
    },
    {
      "cell_type": "code",
      "metadata": {
        "id": "vi_5tLZkXCno",
        "colab_type": "code",
        "colab": {}
      },
      "source": [
        "ft.similar_by_vector(ent_men_emb[wikiid2id[name2wikiid['FC Barcelona']]])"
      ],
      "execution_count": 0,
      "outputs": []
    },
    {
      "cell_type": "markdown",
      "metadata": {
        "id": "8CCaZvFq-HFR",
        "colab_type": "text"
      },
      "source": [
        "# 3. Evaluate Model"
      ]
    },
    {
      "cell_type": "markdown",
      "metadata": {
        "id": "WeJ3CEtLkxSg",
        "colab_type": "text"
      },
      "source": [
        "## Load Saved Mention Detector"
      ]
    },
    {
      "cell_type": "code",
      "metadata": {
        "id": "G8a31JJTpf75",
        "colab_type": "code",
        "colab": {}
      },
      "source": [
        "import os\n",
        "from keras.models import load_model\n",
        "\n",
        "if not os.path.exists('el_mention_model.h5'):\n",
        "  ! cp drive/My\\ Drive/e2e_el/el_mention_model.h5 el_mention_model.h5\n",
        "\n",
        "model = load_model('el_mention_model.h5')#, custom_objects={'f1': f1})"
      ],
      "execution_count": 0,
      "outputs": []
    },
    {
      "cell_type": "markdown",
      "metadata": {
        "id": "he99KsvOk5ZH",
        "colab_type": "text"
      },
      "source": [
        "## Test Model With Arbitary Input Text"
      ]
    },
    {
      "cell_type": "code",
      "metadata": {
        "id": "2q54kWy_lZZ0",
        "colab_type": "code",
        "colab": {}
      },
      "source": [
        "def text_to_entity_names(text, human_readable=True):\n",
        "  \n",
        "  clean = [w for w in text.split(' ')]\n",
        "#   word_ids = np.array([word2id[w] for w in clean])\n",
        "  \n",
        "  disambiguated = predict_entities(text)\n",
        "\n",
        "  if not human_readable:\n",
        "    return disambiguated\n",
        "  \n",
        "  human_readable = {}\n",
        "  \n",
        "  for boundary, wikiid in disambiguated.items():\n",
        "    start, end = tuple(map(int, boundary.split(':')))\n",
        "    mention = ' '.join([f'[{boundary:5s}]'] + clean[start:end+1])\n",
        "    human_readable[mention] = wikiid2name[wikiid]\n",
        "  \n",
        "  return human_readable"
      ],
      "execution_count": 0,
      "outputs": []
    },
    {
      "cell_type": "code",
      "metadata": {
        "id": "VGHLtvcMmI4f",
        "colab_type": "code",
        "outputId": "dfa8e6cf-d767-4d91-b406-bf9197d8c65b",
        "colab": {
          "base_uri": "https://localhost:8080/",
          "height": 34
        }
      },
      "source": [
        "from_testa = 'They were held up by a gritty 84 from Paul Johnson but ex-England fast bowler Martin McCague took four for 55 .'\n",
        "politics = 'President Barack Obama last week said he will impose a blanket tariff on Mexican imports from June 10 to try to pressure Mexico to tackle large flows of mostly Central American migrants passing through en route to the United States'\n",
        "sports = 'Barcelona plays with Sevilla'\n",
        "\n",
        "text_to_entity_names(sports)"
      ],
      "execution_count": 0,
      "outputs": [
        {
          "output_type": "execute_result",
          "data": {
            "text/plain": [
              "{'[0:0  ] Barcelona': 'FC Barcelona', '[3:3  ] Sevilla': 'Sevilla FC'}"
            ]
          },
          "metadata": {
            "tags": []
          },
          "execution_count": 19
        }
      ]
    },
    {
      "cell_type": "markdown",
      "metadata": {
        "id": "ErJwnTSslIo1",
        "colab_type": "text"
      },
      "source": [
        "## Functions to evaluate Model"
      ]
    },
    {
      "cell_type": "code",
      "metadata": {
        "id": "5MPfcRO08Eeh",
        "colab_type": "code",
        "colab": {}
      },
      "source": [
        "def count_correct(predicted, gold, strong_match=True, return_totals=True):\n",
        "  \n",
        "  total_pred, total_gold = len(predicted), len(gold)\n",
        "  correct = 0\n",
        "  \n",
        "  if strong_match:\n",
        "    for b in predicted.keys():\n",
        "      if b in gold and predicted[b] == gold[b]:\n",
        "        correct += 1\n",
        "  else:\n",
        "    for b, e in gold.items():\n",
        "      for pb, pe in predicted.items():\n",
        "        if pe == e:\n",
        "          g_start, g_end = int(b.split(':')[0]), int(b.split(':')[1])\n",
        "          p_start, p_end = int(pb.split(':')[0]), int(pb.split(':')[1])\n",
        "          if p_start in range(g_start, g_end+1) or p_end in range(g_start, g_end+1):\n",
        "            correct += 1\n",
        "\n",
        "  if return_totals:\n",
        "    return correct, total_pred, total_gold\n",
        "  else:\n",
        "    return correct"
      ],
      "execution_count": 0,
      "outputs": []
    },
    {
      "cell_type": "code",
      "metadata": {
        "id": "yakmAuuyzNLQ",
        "colab_type": "code",
        "colab": {}
      },
      "source": [
        "from commons import show_progress\n",
        "\n",
        "reload(process_aida)\n",
        "\n",
        "def calculate_micro_f1(aida_path='aida-testa.tsv', total_docs=216, strong_match=True):\n",
        "  \n",
        "  total_pred = 0       # number of entities in predictions\n",
        "  total_gold = 0       # number of gold entities in test set\n",
        "  correct = 0          # number of predicted entities that match entity\n",
        "                       # and boundary (in strong match)\n",
        "  doc_idx = 0\n",
        "\n",
        "  for tokens, golds in process_aida.gen_tokens_with_golds(aida_path):\n",
        "\n",
        "    show_progress(percent=doc_idx/total_docs, title=f'{correct} correct, {total_pred} pred, {total_gold} total ')\n",
        "    \n",
        "    predicted = predict_entities(' '.join(tokens))\n",
        "    corr, tot_pred, tot_gold = count_correct(predicted, golds,\n",
        "                                            strong_match=strong_match)\n",
        "    total_pred += tot_pred\n",
        "    correct += corr\n",
        "    total_gold += tot_gold\n",
        "    \n",
        "    doc_idx += 1\n",
        "  \n",
        "  show_progress(percent=1.0, done=True, done_message=f' {correct} correct, {total_pred} pred, {total_gold} total')\n",
        "  \n",
        "  precision, recall = correct/total_pred, correct/total_gold\n",
        "  f_score = (2 * precision * recall) / (precision + recall)\n",
        "  \n",
        "  return precision, recall, f_score"
      ],
      "execution_count": 0,
      "outputs": []
    },
    {
      "cell_type": "code",
      "metadata": {
        "id": "fCsLFnixPCB0",
        "colab_type": "code",
        "colab": {}
      },
      "source": [
        "for tokens, golds in process_aida.gen_tokens_with_golds('aida-testa.tsv'):\n",
        "  print(' '.join(tokens))\n",
        "  print(predict_entities(' '.join(tokens)))\n",
        "  print(golds)\n",
        "  break"
      ],
      "execution_count": 0,
      "outputs": []
    },
    {
      "cell_type": "markdown",
      "metadata": {
        "id": "BFxIFuWBj8lX",
        "colab_type": "text"
      },
      "source": [
        "## Micro F1 Scores for Baseline"
      ]
    },
    {
      "cell_type": "code",
      "metadata": {
        "id": "fhly7f1Ojhz8",
        "colab_type": "code",
        "outputId": "043fe116-e7b8-4f46-f37c-52d60af23ea1",
        "colab": {
          "base_uri": "https://localhost:8080/",
          "height": 357
        }
      },
      "source": [
        "precision, recall, f_score = calculate_micro_f1(strong_match=False)\n",
        "print(f'evaluation on aida validation set with weak matching:')\n",
        "print(f'precision: {precision:.3f}\\nrecall:    {recall:.3f}\\nf1-score:  {f_score:.3f}')"
      ],
      "execution_count": 0,
      "outputs": [
        {
          "output_type": "stream",
          "text": [
            "0 correct, 87 pred, 77 total [>--------------------------------------------------] 0.93%  "
          ],
          "name": "stdout"
        },
        {
          "output_type": "error",
          "ename": "KeyboardInterrupt",
          "evalue": "ignored",
          "traceback": [
            "\u001b[0;31m---------------------------------------------------------------------------\u001b[0m",
            "\u001b[0;31mKeyboardInterrupt\u001b[0m                         Traceback (most recent call last)",
            "\u001b[0;32m<ipython-input-27-a1a94d5f4f09>\u001b[0m in \u001b[0;36m<module>\u001b[0;34m()\u001b[0m\n\u001b[0;32m----> 1\u001b[0;31m \u001b[0mprecision\u001b[0m\u001b[0;34m,\u001b[0m \u001b[0mrecall\u001b[0m\u001b[0;34m,\u001b[0m \u001b[0mf_score\u001b[0m \u001b[0;34m=\u001b[0m \u001b[0mcalculate_micro_f1\u001b[0m\u001b[0;34m(\u001b[0m\u001b[0mstrong_match\u001b[0m\u001b[0;34m=\u001b[0m\u001b[0;32mFalse\u001b[0m\u001b[0;34m)\u001b[0m\u001b[0;34m\u001b[0m\u001b[0;34m\u001b[0m\u001b[0m\n\u001b[0m\u001b[1;32m      2\u001b[0m \u001b[0mprint\u001b[0m\u001b[0;34m(\u001b[0m\u001b[0;34mf'evaluation on aida validation set with weak matching:'\u001b[0m\u001b[0;34m)\u001b[0m\u001b[0;34m\u001b[0m\u001b[0;34m\u001b[0m\u001b[0m\n\u001b[1;32m      3\u001b[0m \u001b[0mprint\u001b[0m\u001b[0;34m(\u001b[0m\u001b[0;34mf'precision: {precision:.3f}\\nrecall:    {recall:.3f}\\nf1-score:  {f_score:.3f}'\u001b[0m\u001b[0;34m)\u001b[0m\u001b[0;34m\u001b[0m\u001b[0;34m\u001b[0m\u001b[0m\n",
            "\u001b[0;32m<ipython-input-26-c397f18a37ec>\u001b[0m in \u001b[0;36mcalculate_micro_f1\u001b[0;34m(aida_path, total_docs, strong_match)\u001b[0m\n\u001b[1;32m     15\u001b[0m     \u001b[0mshow_progress\u001b[0m\u001b[0;34m(\u001b[0m\u001b[0mpercent\u001b[0m\u001b[0;34m=\u001b[0m\u001b[0mdoc_idx\u001b[0m\u001b[0;34m/\u001b[0m\u001b[0mtotal_docs\u001b[0m\u001b[0;34m,\u001b[0m \u001b[0mtitle\u001b[0m\u001b[0;34m=\u001b[0m\u001b[0;34mf'{correct} correct, {total_pred} pred, {total_gold} total '\u001b[0m\u001b[0;34m)\u001b[0m\u001b[0;34m\u001b[0m\u001b[0;34m\u001b[0m\u001b[0m\n\u001b[1;32m     16\u001b[0m \u001b[0;34m\u001b[0m\u001b[0m\n\u001b[0;32m---> 17\u001b[0;31m     \u001b[0mpredicted\u001b[0m \u001b[0;34m=\u001b[0m \u001b[0mpredict_entities\u001b[0m\u001b[0;34m(\u001b[0m\u001b[0;34m' '\u001b[0m\u001b[0;34m.\u001b[0m\u001b[0mjoin\u001b[0m\u001b[0;34m(\u001b[0m\u001b[0mtokens\u001b[0m\u001b[0;34m)\u001b[0m\u001b[0;34m)\u001b[0m\u001b[0;34m\u001b[0m\u001b[0;34m\u001b[0m\u001b[0m\n\u001b[0m\u001b[1;32m     18\u001b[0m     corr, tot_pred, tot_gold = count_correct(predicted, golds,\n\u001b[1;32m     19\u001b[0m                                             strong_match=strong_match)\n",
            "\u001b[0;32m<ipython-input-14-08b69ff030f0>\u001b[0m in \u001b[0;36mpredict_entities\u001b[0;34m(doc)\u001b[0m\n\u001b[1;32m     37\u001b[0m       \u001b[0mmention\u001b[0m \u001b[0;34m=\u001b[0m \u001b[0mmentions\u001b[0m\u001b[0;34m[\u001b[0m\u001b[0mi\u001b[0m\u001b[0;34m]\u001b[0m\u001b[0;34m\u001b[0m\u001b[0;34m\u001b[0m\u001b[0m\n\u001b[1;32m     38\u001b[0m \u001b[0;34m\u001b[0m\u001b[0m\n\u001b[0;32m---> 39\u001b[0;31m       \u001b[0mdistances\u001b[0m \u001b[0;34m=\u001b[0m \u001b[0mdistance\u001b[0m\u001b[0;34m.\u001b[0m\u001b[0mcdist\u001b[0m\u001b[0;34m(\u001b[0m\u001b[0;34m[\u001b[0m\u001b[0mmention\u001b[0m\u001b[0;34m]\u001b[0m\u001b[0;34m,\u001b[0m \u001b[0ment_men_emb\u001b[0m\u001b[0;34m[\u001b[0m\u001b[0;36m1\u001b[0m\u001b[0;34m:\u001b[0m\u001b[0;34m]\u001b[0m\u001b[0;34m,\u001b[0m \u001b[0;34m'cosine'\u001b[0m\u001b[0;34m)\u001b[0m\u001b[0;34m\u001b[0m\u001b[0;34m\u001b[0m\u001b[0m\n\u001b[0m\u001b[1;32m     40\u001b[0m       \u001b[0meid\u001b[0m \u001b[0;34m=\u001b[0m \u001b[0;36m1\u001b[0m \u001b[0;34m+\u001b[0m \u001b[0mnp\u001b[0m\u001b[0;34m.\u001b[0m\u001b[0margmin\u001b[0m\u001b[0;34m(\u001b[0m\u001b[0mdistances\u001b[0m\u001b[0;34m)\u001b[0m\u001b[0;34m\u001b[0m\u001b[0;34m\u001b[0m\u001b[0m\n\u001b[1;32m     41\u001b[0m       \u001b[0mwikiid\u001b[0m \u001b[0;34m=\u001b[0m \u001b[0mid2wikiid\u001b[0m\u001b[0;34m[\u001b[0m\u001b[0meid\u001b[0m\u001b[0;34m]\u001b[0m\u001b[0;34m\u001b[0m\u001b[0;34m\u001b[0m\u001b[0m\n",
            "\u001b[0;32m/usr/local/lib/python3.6/dist-packages/scipy/spatial/distance.py\u001b[0m in \u001b[0;36mcdist\u001b[0;34m(XA, XB, metric, *args, **kwargs)\u001b[0m\n\u001b[1;32m   2778\u001b[0m             cdist_fn = getattr(_distance_wrap,\n\u001b[1;32m   2779\u001b[0m                                \"cdist_%s_%s_wrap\" % (metric_name, typ))\n\u001b[0;32m-> 2780\u001b[0;31m             \u001b[0mcdist_fn\u001b[0m\u001b[0;34m(\u001b[0m\u001b[0mXA\u001b[0m\u001b[0;34m,\u001b[0m \u001b[0mXB\u001b[0m\u001b[0;34m,\u001b[0m \u001b[0mdm\u001b[0m\u001b[0;34m,\u001b[0m \u001b[0;34m**\u001b[0m\u001b[0mkwargs\u001b[0m\u001b[0;34m)\u001b[0m\u001b[0;34m\u001b[0m\u001b[0;34m\u001b[0m\u001b[0m\n\u001b[0m\u001b[1;32m   2781\u001b[0m             \u001b[0;32mreturn\u001b[0m \u001b[0mdm\u001b[0m\u001b[0;34m\u001b[0m\u001b[0;34m\u001b[0m\u001b[0m\n\u001b[1;32m   2782\u001b[0m \u001b[0;34m\u001b[0m\u001b[0m\n",
            "\u001b[0;31mKeyboardInterrupt\u001b[0m: "
          ]
        }
      ]
    },
    {
      "cell_type": "code",
      "metadata": {
        "id": "IkWjaH6FkC_N",
        "colab_type": "code",
        "outputId": "af9414c2-e3b5-4b6c-edca-f7939d22858a",
        "colab": {
          "base_uri": "https://localhost:8080/",
          "height": 102
        }
      },
      "source": [
        "precision, recall, f_score = calculate_micro_f1(strong_match=True)\n",
        "print(f'evaluation on aida validation set with strong matching:')\n",
        "print(f'precision: {precision:.3f}\\nrecall:    {recall:.3f}\\nf1-score:  {f_score:.3f}')"
      ],
      "execution_count": 0,
      "outputs": [
        {
          "output_type": "stream",
          "text": [
            "[===================================================] 100% done!\n",
            "evaluation on aida validation set with strong matching:\n",
            "precision: 0.524\n",
            "recall:    0.686\n",
            "f1-score:  0.594\n"
          ],
          "name": "stdout"
        }
      ]
    },
    {
      "cell_type": "code",
      "metadata": {
        "id": "B0qBtwzjjn0L",
        "colab_type": "code",
        "outputId": "579cb5d9-ae17-4724-c552-413abdea35fb",
        "colab": {
          "base_uri": "https://localhost:8080/",
          "height": 102
        }
      },
      "source": [
        "precision, recall, f_score = calculate_micro_f1(aida_path='aida-testb.tsv',\n",
        "                                                strong_match=False)\n",
        "print(f'evaluation on aida test set with weak matching:')\n",
        "print(f'precision: {precision:.3f}\\nrecall:    {recall:.3f}\\nf1-score:  {f_score:.3f}')"
      ],
      "execution_count": 0,
      "outputs": [
        {
          "output_type": "stream",
          "text": [
            "[===================================================] 100% done!\n",
            "evaluation on aida test set with weak matching:\n",
            "precision: 0.448\n",
            "recall:    0.619\n",
            "f1-score:  0.520\n"
          ],
          "name": "stdout"
        }
      ]
    },
    {
      "cell_type": "code",
      "metadata": {
        "id": "OkqU-RWbjoXR",
        "colab_type": "code",
        "outputId": "fef8ea8d-6858-4e77-f72b-9531a8590701",
        "colab": {
          "base_uri": "https://localhost:8080/",
          "height": 102
        }
      },
      "source": [
        "precision, recall, f_score = calculate_micro_f1(aida_path='aida-testb.tsv',\n",
        "                                                strong_match=True)\n",
        "print(f'evaluation on aida test set with strong matching:')\n",
        "print(f'precision: {precision:.3f}\\nrecall:    {recall:.3f}\\nf1-score:  {f_score:.3f}')"
      ],
      "execution_count": 0,
      "outputs": [
        {
          "output_type": "stream",
          "text": [
            "[===================================================] 100% done!\n",
            "evaluation on aida test set with strong matching:\n",
            "precision: 0.415\n",
            "recall:    0.573\n",
            "f1-score:  0.481\n"
          ],
          "name": "stdout"
        }
      ]
    },
    {
      "cell_type": "markdown",
      "metadata": {
        "id": "LQbEnly9BsXV",
        "colab_type": "text"
      },
      "source": [
        "# 4. Extras"
      ]
    },
    {
      "cell_type": "code",
      "metadata": {
        "id": "0hsw_c2XRi0w",
        "colab_type": "code",
        "outputId": "9b20f514-db24-4589-e475-b9d3d830d79f",
        "colab": {
          "base_uri": "https://localhost:8080/",
          "height": 544
        }
      },
      "source": [
        "import sys\n",
        "\n",
        "ram = 0\n",
        "\n",
        "for var, obj in locals().items():\n",
        "  if sys.getsizeof(obj) > 10**3:\n",
        "    print(f'{var:16s}: {sys.getsizeof(obj) / 10**6}')\n",
        "  ram += sys.getsizeof(obj)\n",
        "\n",
        "print(f'used ram: {ram / 10**6}')"
      ],
      "execution_count": 0,
      "outputs": [
        {
          "output_type": "stream",
          "text": [
            "FastText        : 0.002\n",
            "name2wikiid     : 41.943144\n",
            "wikiid2name     : 41.943144\n",
            "id2wikiid       : 41.943144\n",
            "wikiid2id       : 41.943144\n",
            "wikiid2mentions : 20.971616\n",
            "_i13            : 0.002271\n",
            "_i14            : 0.001155\n",
            "_i17            : 0.001067\n",
            "tokens          : 0.027336\n",
            "golds           : 0.00228\n",
            "_i21            : 0.001155\n",
            "_i32            : 0.001087\n",
            "Model           : 0.003096\n",
            "LSTM            : 0.002\n",
            "GRU             : 0.001056\n",
            "Embedding       : 0.001056\n",
            "Dense           : 0.002\n",
            "TimeDistributed : 0.001464\n",
            "Dropout         : 0.001056\n",
            "Bidirectional   : 0.002\n",
            "Concatenate     : 0.001056\n",
            "Lambda          : 0.001464\n",
            "_i34            : 0.001087\n",
            "_i36            : 0.001087\n",
            "_i38            : 0.001055\n",
            "_i39            : 0.001055\n",
            "_i41            : 0.001055\n",
            "_i43            : 0.001055\n",
            "_i44            : 0.001083\n",
            "used ram: 188.827673\n"
          ],
          "name": "stdout"
        }
      ]
    },
    {
      "cell_type": "code",
      "metadata": {
        "id": "zA7z_GlSgK88",
        "colab_type": "code",
        "colab": {}
      },
      "source": [
        ""
      ],
      "execution_count": 0,
      "outputs": []
    }
  ]
}