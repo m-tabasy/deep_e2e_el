{
  "nbformat": 4,
  "nbformat_minor": 0,
  "metadata": {
    "colab": {
      "name": "el_baseline.ipynb",
      "version": "0.3.2",
      "provenance": [],
      "collapsed_sections": [
        "jKbDUdkw9sAT",
        "mpfjaJPy-fel",
        "O7Gegg82-oFC",
        "iecmhAg3s0Wb",
        "E0hd7jfM-NTh",
        "ohQePvLOm7cq",
        "6vTT6M2799Ed",
        "LQbEnly9BsXV"
      ],
      "toc_visible": true
    },
    "kernelspec": {
      "name": "python3",
      "display_name": "Python 3"
    },
    "accelerator": "GPU"
  },
  "cells": [
    {
      "cell_type": "markdown",
      "metadata": {
        "id": "RFDWlKWYvu8M",
        "colab_type": "text"
      },
      "source": [
        "# Entity Linking Baseline on AIDA-YAGO Dataset"
      ]
    },
    {
      "cell_type": "markdown",
      "metadata": {
        "id": "jKbDUdkw9sAT",
        "colab_type": "text"
      },
      "source": [
        "# 1. Load Libs & Data"
      ]
    },
    {
      "cell_type": "markdown",
      "metadata": {
        "id": "mpfjaJPy-fel",
        "colab_type": "text"
      },
      "source": [
        "## Install Needed Libs"
      ]
    },
    {
      "cell_type": "code",
      "metadata": {
        "id": "f4rJfvYPzy4h",
        "colab_type": "code",
        "colab": {}
      },
      "source": [
        "! pip install gensim"
      ],
      "execution_count": 0,
      "outputs": []
    },
    {
      "cell_type": "markdown",
      "metadata": {
        "id": "O7Gegg82-oFC",
        "colab_type": "text"
      },
      "source": [
        "## Mount Drive"
      ]
    },
    {
      "cell_type": "code",
      "metadata": {
        "id": "1uoOxX6b-zhL",
        "colab_type": "code",
        "outputId": "777ebc79-2651-468a-e5e9-99123023ebbd",
        "colab": {
          "base_uri": "https://localhost:8080/",
          "height": 122
        }
      },
      "source": [
        "from google.colab import drive\n",
        "\n",
        "drive.mount('/content/drive')\n",
        "drive_path = 'drive/My Drive/e2e_el/'"
      ],
      "execution_count": 0,
      "outputs": [
        {
          "output_type": "stream",
          "text": [
            "Go to this URL in a browser: https://accounts.google.com/o/oauth2/auth?client_id=947318989803-6bn6qk8qdgf4n4g3pfee6491hc0brc4i.apps.googleusercontent.com&redirect_uri=urn%3Aietf%3Awg%3Aoauth%3A2.0%3Aoob&scope=email%20https%3A%2F%2Fwww.googleapis.com%2Fauth%2Fdocs.test%20https%3A%2F%2Fwww.googleapis.com%2Fauth%2Fdrive%20https%3A%2F%2Fwww.googleapis.com%2Fauth%2Fdrive.photos.readonly%20https%3A%2F%2Fwww.googleapis.com%2Fauth%2Fpeopleapi.readonly&response_type=code\n",
            "\n",
            "Enter your authorization code:\n",
            "··········\n",
            "Mounted at /content/drive\n"
          ],
          "name": "stdout"
        }
      ]
    },
    {
      "cell_type": "markdown",
      "metadata": {
        "id": "iecmhAg3s0Wb",
        "colab_type": "text"
      },
      "source": [
        "## Load Pretrained Word2vec"
      ]
    },
    {
      "cell_type": "code",
      "metadata": {
        "id": "JY7hKBRIszK-",
        "colab_type": "code",
        "colab": {}
      },
      "source": [
        "! cp drive/My\\ Drive/e2e_el/GoogleNews-vectors-negative300.bin.gz word2vec300.bin.gz\n",
        "! gunzip word2vec300.bin.gz"
      ],
      "execution_count": 0,
      "outputs": []
    },
    {
      "cell_type": "code",
      "metadata": {
        "id": "VOK0qzuucPUo",
        "colab_type": "code",
        "colab": {}
      },
      "source": [
        "import pandas as pd\n",
        "import numpy as np\n",
        "import gensim\n",
        "\n",
        "from gensim.models import KeyedVectors\n",
        "\n",
        "vocab_size = 3 * 10**5\n",
        "w2v = KeyedVectors.load_word2vec_format('word2vec300.bin', limit=vocab_size, binary=True)\n",
        "\n",
        "vocab = ['UNK'] + list(w2v.vocab.keys())\n",
        "word2id, id2word = {}, {}\n",
        "\n",
        "for wid, w in enumerate(vocab):\n",
        "  word2id[w] = wid\n",
        "  id2word[wid] = w"
      ],
      "execution_count": 0,
      "outputs": []
    },
    {
      "cell_type": "code",
      "metadata": {
        "id": "cetv4u7AjUAr",
        "colab_type": "code",
        "outputId": "f2855f99-aa9b-4f79-9642-e36f9976f292",
        "colab": {
          "base_uri": "https://localhost:8080/",
          "height": 34
        }
      },
      "source": [
        "from keras.layers import Embedding\n",
        "\n",
        "word_vectors = np.zeros((vocab_size + 1, w2v.vector_size))\n",
        "word_vectors[0] = np.zeros((w2v.vector_size,)) # change this to better vec\n",
        "\n",
        "for i in range(1, vocab_size + 1):\n",
        "  word_vectors[i] = w2v[id2word[i]]"
      ],
      "execution_count": 0,
      "outputs": [
        {
          "output_type": "stream",
          "text": [
            "Using TensorFlow backend.\n"
          ],
          "name": "stderr"
        }
      ]
    },
    {
      "cell_type": "code",
      "metadata": {
        "id": "BbW-QdNu8SGj",
        "colab_type": "code",
        "colab": {}
      },
      "source": [
        "w2v.similar_by_word('Jobs')"
      ],
      "execution_count": 0,
      "outputs": []
    },
    {
      "cell_type": "markdown",
      "metadata": {
        "id": "E0hd7jfM-NTh",
        "colab_type": "text"
      },
      "source": [
        "## Preprocess Wikipedia Dump"
      ]
    },
    {
      "cell_type": "code",
      "metadata": {
        "id": "RBG2L2aVyN8G",
        "colab_type": "code",
        "outputId": "75093e1d-ccb1-4fdd-9699-a33dae7138fc",
        "colab": {
          "base_uri": "https://localhost:8080/",
          "height": 224
        }
      },
      "source": [
        "! wget https://dumps.wikimedia.org/archive/enwiki/20100312/enwiki-20100312-pages-articles.xml.bz2\n",
        "! cp enwiki-20100312-pages-articles.xml.bz2 drive/My\\ Drive/e2e_el/enwiki.xml.bz2"
      ],
      "execution_count": 0,
      "outputs": [
        {
          "output_type": "stream",
          "text": [
            "--2019-07-15 16:13:12--  https://dumps.wikimedia.org/archive/enwiki/20100312/enwiki-20100312-pages-articles.xml.bz2\n",
            "Resolving dumps.wikimedia.org (dumps.wikimedia.org)... 208.80.155.106, 2620:0:861:4:208:80:155:106\n",
            "Connecting to dumps.wikimedia.org (dumps.wikimedia.org)|208.80.155.106|:443... connected.\n",
            "HTTP request sent, awaiting response... 200 OK\n",
            "Length: 6117881141 (5.7G) [application/octet-stream]\n",
            "Saving to: ‘enwiki-20100312-pages-articles.xml.bz2’\n",
            "\n",
            "enwiki-20100312-pag 100%[===================>]   5.70G  1.97MB/s    in 49m 29s \n",
            "\n",
            "2019-07-15 17:02:42 (1.97 MB/s) - ‘enwiki-20100312-pages-articles.xml.bz2’ saved [6117881141/6117881141]\n",
            "\n"
          ],
          "name": "stdout"
        }
      ]
    },
    {
      "cell_type": "code",
      "metadata": {
        "id": "OeqkVDVO_B0F",
        "colab_type": "code",
        "outputId": "65e12d95-f1fc-4bfb-d92c-44e19fd82efc",
        "colab": {
          "base_uri": "https://localhost:8080/",
          "height": 34
        }
      },
      "source": [
        "! cp drive/My\\ Drive/e2e_el/enwiki.xml.bz2 enwiki.xml.bz2\n",
        "! bzip2 -dk -v enwiki.xml.bz2"
      ],
      "execution_count": 0,
      "outputs": [
        {
          "output_type": "stream",
          "text": [
            "  enwiki.xml.bz2: done\n"
          ],
          "name": "stdout"
        }
      ]
    },
    {
      "cell_type": "code",
      "metadata": {
        "id": "ZHXGyo7Q9KD4",
        "colab_type": "code",
        "colab": {}
      },
      "source": [
        "! python WikiExtractor.py enwiki.xml -o enwiki -l --no_templates --processes 4 -q"
      ],
      "execution_count": 0,
      "outputs": []
    },
    {
      "cell_type": "code",
      "metadata": {
        "id": "MgU7ahEt9dj1",
        "colab_type": "code",
        "colab": {}
      },
      "source": [
        "# python 2.7\n",
        "\n",
        "import os\n",
        "\n",
        "def merge(in_dir, out_path):\n",
        "        \n",
        "    with open(out_path, 'w') as out_file:\n",
        "        \n",
        "        for sub_dir in sorted(os.listdir(in_dir)):\n",
        "            print sub_dir, \n",
        "            file_dir = in_dir + '/' + sub_dir\n",
        "            \n",
        "            for in_name in sorted(os.listdir(file_dir)):\n",
        "                with open(file_dir + '/' + in_name, 'r') as in_file:\n",
        "                    for line in in_file:\n",
        "                        out_file.write(line)"
      ],
      "execution_count": 0,
      "outputs": []
    },
    {
      "cell_type": "code",
      "metadata": {
        "id": "D4bScOIC9egE",
        "colab_type": "code",
        "outputId": "fae6b359-08c9-4de3-c2fd-bcdb6a5a16ef",
        "colab": {
          "base_uri": "https://localhost:8080/",
          "height": 54
        }
      },
      "source": [
        "merge(in_dir='enwiki', out_path='enwiki_full.txt')"
      ],
      "execution_count": 0,
      "outputs": [
        {
          "output_type": "stream",
          "text": [
            "AA AB AC AD AE AF AG AH AI AJ AK AL AM AN AO AP AQ AR AS AT AU AV AW AX AY AZ BA BB BC BD BE BF BG BH BI BJ BK BL BM BN BO BP BQ BR BS BT BU BV BW BX BY BZ CA CB CC CD CE CF CG CH CI CJ CK CL CM CN CO CP CQ CR CS CT CU CV CW CX CY CZ DA DB DC DD DE DF DG DH DI DJ\n"
          ],
          "name": "stdout"
        }
      ]
    },
    {
      "cell_type": "code",
      "metadata": {
        "id": "vjuwD689VYbx",
        "colab_type": "code",
        "colab": {}
      },
      "source": [
        "! cp enwiki_full.txt drive/My\\ Drive/e2e_el/enwiki_links_full.txt"
      ],
      "execution_count": 0,
      "outputs": []
    },
    {
      "cell_type": "markdown",
      "metadata": {
        "id": "ohQePvLOm7cq",
        "colab_type": "text"
      },
      "source": [
        "## Load Wiki Entities"
      ]
    },
    {
      "cell_type": "code",
      "metadata": {
        "id": "Uasf1GvyuxTX",
        "colab_type": "code",
        "colab": {}
      },
      "source": [
        "f = open('enwiki_full.txt', 'r')"
      ],
      "execution_count": 0,
      "outputs": []
    },
    {
      "cell_type": "code",
      "metadata": {
        "id": "2l79NFV2u4HF",
        "colab_type": "code",
        "colab": {
          "base_uri": "https://localhost:8080/",
          "height": 156
        },
        "outputId": "6c3ade35-f82d-4235-aab5-0662eb7bcc75"
      },
      "source": [
        "print(f.readline() + f.readline() + f.readline() + f.readline() + f.readline() + f.readline())"
      ],
      "execution_count": 5,
      "outputs": [
        {
          "output_type": "stream",
          "text": [
            "\n",
            "Anarchism is a <a href=\"political%20philosophy\">political philosophy</a> which considers the <a href=\"Sovereign%20state\">state</a> undesirable, unnecessary and harmful, and instead promotes a stateless society, or <a href=\"anarchy\">anarchy</a>. It seeks to diminish or even abolish authority in the conduct of human relations. Anarchists may widely disagree on what additional criteria are required in anarchism. \"<a href=\"The%20Oxford%20Companion%20to%20Philosophy\">The Oxford Companion to Philosophy</a>\" says, \"there is no single defining position that all anarchists hold, and those considered anarchists at best share a certain family resemblance.\"\n",
            "\n",
            "There are many types and traditions of anarchism, not all of which are mutually exclusive. Strains of anarchism have been divided into the categories of <a href=\"social%20anarchism\">social</a> and <a href=\"individualist%20anarchism\">individualist anarchism</a> or similar dual classifications. Anarchism is often considered to be a radical left-wing ideology, and much of <a href=\"anarchist%20economics\">anarchist economics</a> and <a href=\"anarchist%20law\">anarchist legal philosophy</a> reflect <a href=\"anti-statism\">anti-statist</a> interpretations of <a href=\"anarcho-communism\">communism</a>, <a href=\"collectivist%20anarchism\">collectivism</a>, <a href=\"anarcho-syndicalism\">syndicalism</a> or <a href=\"participatory%20economics\">participatory economics</a>. However, anarchism has always included an individualist strain supporting a <a href=\"market%20economy\">market economy</a> and <a href=\"private%20property\">private property</a>, or unrestrained <a href=\"egoist%20anarchism\">egoism</a> that bases right on might.\n",
            "\n",
            "Others, such as <a href=\"Panarchism\">panarchists</a> and <a href=\"anarchists%20without%20adjectives\">anarchists without adjectives</a>, neither advocate nor object to any particular form of organization as long as it is not compulsory. Differing fundamentally, some <a href=\"anarchist%20schools%20of%20thought\">anarchist schools of thought</a> support anything from extreme <a href=\"individualism\">individualism</a> to complete <a href=\"collectivism\">collectivism</a>. The central tendency of anarchism as a social movement have been represented by communist anarchism, with individualist anarchism being primarily a <a href=\"philosophical%20anarchism\">philosophical or literary phenomenon</a>. Some anarchists fundamentally <a href=\"non-aggression%20principle\">oppose all forms of aggression</a>, supporting <a href=\"self-defense\">self-defense</a> or <a href=\"non-violence\">non-violence</a>, while others have supported the use of some <a href=\"coercion\">coercive</a> measures, including violent <a href=\"revolution\">revolution</a> and <a href=\"terrorism\">terrorism</a>, on the path to an anarchist society.\n",
            "\n"
          ],
          "name": "stdout"
        }
      ]
    },
    {
      "cell_type": "code",
      "metadata": {
        "id": "A0z6Xp8kw1Ve",
        "colab_type": "code",
        "colab": {}
      },
      "source": [
        "from gensim.corpora import wikicorpus\n",
        "from urllib.parse import unquote"
      ],
      "execution_count": 0,
      "outputs": []
    },
    {
      "cell_type": "code",
      "metadata": {
        "id": "nbj-ZaZ1qEDq",
        "colab_type": "code",
        "colab": {}
      },
      "source": [
        "! cp drive/My\\ Drive/e2e_el/enwiki_links_full.txt enwiki_full.txt\n",
        "# ! cp drive/My\\ Drive/e2e_el/entities.pickle entities.pickle"
      ],
      "execution_count": 0,
      "outputs": []
    },
    {
      "cell_type": "code",
      "metadata": {
        "id": "aMdW2cCOwNIH",
        "colab_type": "code",
        "colab": {}
      },
      "source": [
        "import sys\n",
        "from importlib import reload\n",
        "\n",
        "sys.path.insert(0, '/content/drive/My Drive/colab_utils/')"
      ],
      "execution_count": 0,
      "outputs": []
    },
    {
      "cell_type": "code",
      "metadata": {
        "id": "MLOPwwm1ECt4",
        "colab_type": "code",
        "outputId": "0a818002-29f4-4088-9429-e34a179f0093",
        "colab": {
          "base_uri": "https://localhost:8080/",
          "height": 34
        }
      },
      "source": [
        "import process_wiki\n",
        "\n",
        "process_wiki = reload(process_wiki)\n",
        "\n",
        "ent_max = 5500000     # 10 ** 7\n",
        "\n",
        "name2wikiid, wikiid2name, id2wikiid, wikiid2id = process_wiki.load_entity_id_maps(\n",
        "    ent_pickle_path='entites.pickle',\n",
        "    ent_path='enwiki_full.txt',\n",
        "    ent_max=ent_max)\n",
        "\n",
        "ent_size = len(wikiid2id)"
      ],
      "execution_count": 0,
      "outputs": [
        {
          "output_type": "stream",
          "text": [
            "loaded entities from entites.pickle\n"
          ],
          "name": "stdout"
        }
      ]
    },
    {
      "cell_type": "code",
      "metadata": {
        "id": "03zfyslXLBlk",
        "colab_type": "code",
        "outputId": "485be3f5-b26f-42e6-a580-d7f4de2359b9",
        "colab": {
          "base_uri": "https://localhost:8080/",
          "height": 119
        }
      },
      "source": [
        "list(name2wikiid.keys())[74524:74530]"
      ],
      "execution_count": 0,
      "outputs": [
        {
          "output_type": "execute_result",
          "data": {
            "text/plain": [
              "['Locust Grove, Oklahoma',\n",
              " 'Mazie, Oklahoma',\n",
              " 'Murphy, Oklahoma',\n",
              " 'Pensacola, Oklahoma',\n",
              " 'Pin Oak Acres, Oklahoma',\n",
              " 'Pryor Creek, Oklahoma']"
            ]
          },
          "metadata": {
            "tags": []
          },
          "execution_count": 12
        }
      ]
    },
    {
      "cell_type": "code",
      "metadata": {
        "id": "JQpBBV2iDxlZ",
        "colab_type": "code",
        "colab": {}
      },
      "source": [
        "# saving maps of entitiy to title words and vice versa\n",
        "\n",
        "wikiid2wordids = {}\n",
        "wid2freq = {}\n",
        "\n",
        "def split_name(name):\n",
        "  name = name.replace(',', '')\n",
        "  name = name.replace('(', '').replace(')', '')\n",
        "  return name.split(' ')\n",
        "\n",
        "for eid, name in wikiid2name.items():\n",
        "  \n",
        "  words = {}\n",
        "  \n",
        "  for word in split_name(name):\n",
        "    \n",
        "    if word not in word2id:\n",
        "      wid = len(word2id)\n",
        "      word2id[word] = wid\n",
        "      id2word[wid] = word\n",
        "    else:\n",
        "      wid = word2id[word]\n",
        "    \n",
        "    if wid in wid2freq:\n",
        "      wid2freq[wid] += 1\n",
        "    else:\n",
        "      wid2freq[wid] = 1\n",
        "    \n",
        "    if word in words:\n",
        "      words[wid] += 1\n",
        "    else:\n",
        "      words[wid] = 1\n",
        "    \n",
        "    wikiid2wordids[eid] = words"
      ],
      "execution_count": 0,
      "outputs": []
    },
    {
      "cell_type": "code",
      "metadata": {
        "id": "MVV5ouymw3Hb",
        "colab_type": "code",
        "colab": {}
      },
      "source": [
        "def gen_entity_mentions_map(wiki_path, name2wikiid, wikiid2id):\n",
        "\n",
        "\thyp_pattern = re.compile(r'<a[^>]*href=\\\"([^\\\">]+)\\\"[^>]*>([^>]+)</a>', re.DOTALL | re.UNICODE)\n",
        "\t\n",
        "\tignored_names = set()\n",
        "\twikiid2mentions = {}\n",
        "\t\n",
        "\twith open(wiki_path, 'r', encoding='utf8') as inf:\n",
        "\t\n",
        "\t\tfor line in inf:\n",
        "      \n",
        "      if len(wikiid2mentions) > 100:\n",
        "        return wikiid2mentions\n",
        "\t\t\n",
        "\t\t\tclean_text = wikicorpus.filter_wiki(line)\n",
        "\t\t\thyp_matches = re.finditer(hyp_pattern, line)\n",
        "\n",
        "\n",
        "\t\t\tfor link in hyp_matches:\n",
        "\n",
        "\t\t\t\tname = unquote(link.groups()[0])   # wikipedia url id\n",
        "\t\t\t\tmention = link.groups()[1]\n",
        "\t\t\t\t\n",
        "\t\t\t\tif name in name2wikiid:\n",
        "\t\t\t\t\twikiid = name2wikiid[name]\n",
        "\t\t\t\t\tif wikiid not in wikiid2mentions:\n",
        "\t\t\t\t\t\twikiid2mentions[wikiid] = []\n",
        "\t\t\t\t\twikiid2mentions[wikiid].append(mention)\n",
        "\t\t\t\telse:\n",
        "\t\t\t\t\tignored_names.add(name)\n",
        "\t\n",
        "\treturn wikiid2mentions\n"
      ],
      "execution_count": 0,
      "outputs": []
    },
    {
      "cell_type": "code",
      "metadata": {
        "id": "fw1Z1uqn9Ach",
        "colab_type": "code",
        "colab": {}
      },
      "source": [
        "import numpy as np\n",
        "from keras.layers import Embedding\n",
        "\n",
        "# vector_size = 300\n",
        "# entity_vectors = np.random.uniform(low=-1, high=1.0,\n",
        "#                                    size=(ent_size+1, vector_size))\n",
        "# entity_vectors = np.memmap('ent2rand300.bin', \n",
        "#                            dtype='float32', mode='w+',\n",
        "#                            shape=(ent_size+1, vector_size))\n",
        "\n",
        "# entity_vectors[0] = np.zeros((vector_size,))   # unk entity\n",
        "\n",
        "# normalize ent vec"
      ],
      "execution_count": 0,
      "outputs": []
    },
    {
      "cell_type": "markdown",
      "metadata": {
        "id": "tgupC8y2-UNe",
        "colab_type": "text"
      },
      "source": [
        "## Prepare AIDA-YAGO Dataset"
      ]
    },
    {
      "cell_type": "code",
      "metadata": {
        "id": "GlzcDwp_sTdU",
        "colab_type": "code",
        "colab": {}
      },
      "source": [
        "! cp drive/My\\ Drive/e2e_el/aida-yago2-dataset.tsv aida-yago2-dataset.tsv\n",
        "# ! wget http://resources.mpi-inf.mpg.de/yago-naga/aida/download/aida_means.tsv.bz2\n",
        "# ! bzip2 -dk aida_means.tsv.bz2# "
      ],
      "execution_count": 0,
      "outputs": []
    },
    {
      "cell_type": "code",
      "metadata": {
        "id": "e3eSweffwPRX",
        "colab_type": "code",
        "outputId": "ddcce7b2-39b2-4063-9786-67e0b13d377c",
        "colab": {
          "base_uri": "https://localhost:8080/",
          "height": 34
        }
      },
      "source": [
        "import sys\n",
        "import process_aida\n",
        "from importlib import reload\n",
        "\n",
        "sys.path.insert(0, '/content/drive/My Drive/colab_utils/')\n",
        "process_aida = reload(process_aida)\n",
        "\n",
        "process_aida.split_aida(aida_path='aida-yago2-dataset.tsv')"
      ],
      "execution_count": 0,
      "outputs": [
        {
          "output_type": "stream",
          "text": [
            "aida splitted to aida-train.tsv, aida-testa.tsv, aida-testb.tsv\n"
          ],
          "name": "stdout"
        }
      ]
    },
    {
      "cell_type": "code",
      "metadata": {
        "id": "cqSRQvQfPbmN",
        "colab_type": "code",
        "colab": {}
      },
      "source": [
        "for word, wikiid in process_aida.gen_mentions('aida-train.tsv'):\n",
        "  \n",
        "  if word not in word2id:\n",
        "    wid = len(word2id)\n",
        "    word2id[word] = wid\n",
        "    id2word[wid] = word\n",
        "  else:\n",
        "    wid = word2id[word]\n",
        "    \n",
        "  if wid in wid2freq:\n",
        "    wid2freq[wid] += 1\n",
        "  else:\n",
        "    wid2freq[wid] = 1\n",
        "      \n",
        "  if wikiid not in wikiid2wordids:\n",
        "    wikiid2wordids[wikiid] = {}\n",
        "      \n",
        "  if wid in wikiid2wordids[wikiid]:\n",
        "    wikiid2wordids[wikiid][wid] += 1\n",
        "  else:\n",
        "    wikiid2wordids[wikiid][wid] = 1\n",
        "    \n",
        "for _, wordfreqs in wikiid2wordids.items():\n",
        "  for wid in wordfreqs.keys():\n",
        "    wordfreqs[wid] /= wid2freq[wid]\n",
        "    \n",
        "wid2wikiids = {}\n",
        "\n",
        "for wikiid, wordids in wikiid2wordids.items():\n",
        "  for wid in wordids:\n",
        "    if wid not in wid2wikiids:\n",
        "      wid2wikiids[wid] = {}\n",
        "    wid2wikiids[wid][wikiid] = wikiid2wordids[wikiid][wid]"
      ],
      "execution_count": 0,
      "outputs": []
    },
    {
      "cell_type": "code",
      "metadata": {
        "id": "qLfuQhwHbhqj",
        "colab_type": "code",
        "colab": {}
      },
      "source": [
        "from keras.preprocessing.sequence import pad_sequences\n",
        "from keras.utils import to_categorical\n",
        "\n",
        "def data_from_generator(gen, begin_inside_weight=4):\n",
        "  \n",
        "  data_x, data_y = [], []\n",
        "  data_w = []\n",
        "  lengths = []\n",
        "  \n",
        "  for (x, y) in gen:\n",
        "    lengths.append(len(x))\n",
        "    data_x.append(x)\n",
        "    data_y.append(y)\n",
        "\n",
        "  data_x = pad_sequences(data_x, maxlen=max(lengths), value=0, dtype=np.int32,\n",
        "                         padding='post', truncating='post')\n",
        "  data_y = pad_sequences(data_y, maxlen=max(lengths), value=0, dtype=np.int32,\n",
        "                         padding='post', truncating='post')\n",
        "  \n",
        "  data_w = np.ones(data_y.shape)\n",
        "  data_w[data_y > 0] = begin_inside_weight\n",
        "\n",
        "  data_y = to_categorical(data_y, num_classes=3, dtype=np.int32)\n",
        "  \n",
        "  return data_x, data_y, data_w, max(lengths)"
      ],
      "execution_count": 0,
      "outputs": []
    },
    {
      "cell_type": "code",
      "metadata": {
        "id": "_UBbBApcjc0u",
        "colab_type": "code",
        "outputId": "b77b7298-d57e-43f5-8f2b-313e0a1a1dce",
        "colab": {
          "base_uri": "https://localhost:8080/",
          "height": 34
        }
      },
      "source": [
        "train_gen = process_aida.gen_md_data(aida_path='aida-train.tsv',\n",
        "                                     word2id=word2id)\n",
        "valid_gen = process_aida.gen_md_data(aida_path='aida-testa.tsv',\n",
        "                                     word2id=word2id)\n",
        "\n",
        "train_x, train_y, train_w, max_len_train = data_from_generator(train_gen)\n",
        "valid_x, valid_y, valid_w, max_len_valid = data_from_generator(valid_gen)\n",
        "\n",
        "ys = {0: 158121, 1: 22866, 2: 10484}\n",
        "\n",
        "max_len = max(max_len_train, max_len_valid)\n",
        "print(len(train_x), len(valid_x), max_len)"
      ],
      "execution_count": 0,
      "outputs": [
        {
          "output_type": "stream",
          "text": [
            "946 216 1018\n"
          ],
          "name": "stdout"
        }
      ]
    },
    {
      "cell_type": "markdown",
      "metadata": {
        "id": "6vTT6M2799Ed",
        "colab_type": "text"
      },
      "source": [
        "# 2. Define Baseline Model"
      ]
    },
    {
      "cell_type": "code",
      "metadata": {
        "id": "i0VF6IMvJRtV",
        "colab_type": "code",
        "colab": {}
      },
      "source": [
        "from keras import backend as K\n",
        "\n",
        "def f1(y_true, y_pred):\n",
        "  \n",
        "    def recall(y_true, y_pred):\n",
        "        true_positives = K.sum(K.round(K.clip(y_true * y_pred, 0, 1)))\n",
        "        possible_positives = K.sum(K.round(K.clip(y_true, 0, 1)))\n",
        "        recall = true_positives / (possible_positives + K.epsilon())\n",
        "        return recall\n",
        "\n",
        "    def precision(y_true, y_pred):\n",
        "        true_positives = K.sum(K.round(K.clip(y_true * y_pred, 0, 1)))\n",
        "        predicted_positives = K.sum(K.round(K.clip(y_pred, 0, 1)))\n",
        "        precision = true_positives / (predicted_positives + K.epsilon())\n",
        "        return precision\n",
        "      \n",
        "    precision = precision(y_true, y_pred)\n",
        "    recall = recall(y_true, y_pred)\n",
        "    return 2*((precision*recall)/(precision+recall+K.epsilon()))"
      ],
      "execution_count": 0,
      "outputs": []
    },
    {
      "cell_type": "markdown",
      "metadata": {
        "id": "AyeAC4AOrgUY",
        "colab_type": "text"
      },
      "source": [
        "## Design & Train Mention Detector"
      ]
    },
    {
      "cell_type": "code",
      "metadata": {
        "id": "tVO4Edzgy-X0",
        "colab_type": "code",
        "outputId": "f5d6697c-2010-4629-ffc6-505329a5b384",
        "colab": {
          "base_uri": "https://localhost:8080/",
          "height": 306
        }
      },
      "source": [
        "from keras.models import Model, Input\n",
        "from keras.layers import LSTM, Embedding, Dense, TimeDistributed, Dropout, Bidirectional\n",
        "\n",
        "word_ids = Input(shape=(None,), name='input')\n",
        "x = Embedding(len(word_vectors), output_dim=300, weights=[word_vectors], trainable=False, name='w2v')(word_ids)\n",
        "x = Bidirectional(LSTM(units=300, return_sequences=True, recurrent_dropout=0.1, name='lstm1'))(x)\n",
        "x = Bidirectional(LSTM(units=30, return_sequences=True, recurrent_dropout=0.1, name='lstm2'))(x)\n",
        "output = TimeDistributed(Dense(3, activation='softmax'))(x)\n",
        "\n",
        "model = Model(word_ids, output)\n",
        "\n",
        "model.compile(optimizer='adam', loss='categorical_crossentropy',\n",
        "              sample_weight_mode='temporal',\n",
        "              metrics=['accuracy', f1])\n",
        "model.summary()"
      ],
      "execution_count": 0,
      "outputs": [
        {
          "output_type": "stream",
          "text": [
            "_________________________________________________________________\n",
            "Layer (type)                 Output Shape              Param #   \n",
            "=================================================================\n",
            "input (InputLayer)           (None, None)              0         \n",
            "_________________________________________________________________\n",
            "w2v (Embedding)              (None, None, 300)         90000300  \n",
            "_________________________________________________________________\n",
            "bidirectional_4 (Bidirection (None, None, 600)         1442400   \n",
            "_________________________________________________________________\n",
            "bidirectional_5 (Bidirection (None, None, 60)          151440    \n",
            "_________________________________________________________________\n",
            "time_distributed_3 (TimeDist (None, None, 3)           183       \n",
            "=================================================================\n",
            "Total params: 91,594,323\n",
            "Trainable params: 1,594,023\n",
            "Non-trainable params: 90,000,300\n",
            "_________________________________________________________________\n"
          ],
          "name": "stdout"
        }
      ]
    },
    {
      "cell_type": "code",
      "metadata": {
        "id": "hswP6hrHK4aX",
        "colab_type": "code",
        "outputId": "df33bec1-c6af-4117-9c18-651cfbe296b8",
        "colab": {
          "base_uri": "https://localhost:8080/",
          "height": 734
        }
      },
      "source": [
        "history = model.fit(x=train_x, y=train_y, sample_weight=train_w,\n",
        "                    validation_data=(valid_x, valid_y, valid_w),\n",
        "                    batch_size=64, epochs=20, verbose=1)\n",
        "\n",
        "model.save('md_model.h5')\n",
        "! cp md_model.h5 drive/My\\ Drive/e2e_el/md_model.h5"
      ],
      "execution_count": 0,
      "outputs": [
        {
          "output_type": "stream",
          "text": [
            "Train on 946 samples, validate on 216 samples\n",
            "Epoch 1/20\n",
            "946/946 [==============================] - 108s 115ms/step - loss: 0.6963 - acc: 0.9404 - f1: 0.6861 - val_loss: 0.3944 - val_acc: 0.9443 - val_f1: 0.9442\n",
            "Epoch 2/20\n",
            "946/946 [==============================] - 103s 109ms/step - loss: 0.2825 - acc: 0.9589 - f1: 0.9551 - val_loss: 0.3168 - val_acc: 0.9528 - val_f1: 0.9527\n",
            "Epoch 3/20\n",
            "946/946 [==============================] - 105s 111ms/step - loss: 0.2397 - acc: 0.9599 - f1: 0.9601 - val_loss: 0.2689 - val_acc: 0.9507 - val_f1: 0.9518\n",
            "Epoch 4/20\n",
            "946/946 [==============================] - 104s 110ms/step - loss: 0.1954 - acc: 0.9689 - f1: 0.9698 - val_loss: 0.2064 - val_acc: 0.9710 - val_f1: 0.9722\n",
            "Epoch 5/20\n",
            "946/946 [==============================] - 104s 110ms/step - loss: 0.1515 - acc: 0.9800 - f1: 0.9803 - val_loss: 0.1588 - val_acc: 0.9808 - val_f1: 0.9808\n",
            "Epoch 6/20\n",
            "946/946 [==============================] - 105s 110ms/step - loss: 0.1221 - acc: 0.9847 - f1: 0.9847 - val_loss: 0.1292 - val_acc: 0.9853 - val_f1: 0.9850\n",
            "Epoch 7/20\n",
            "946/946 [==============================] - 103s 109ms/step - loss: 0.1015 - acc: 0.9872 - f1: 0.9871 - val_loss: 0.1079 - val_acc: 0.9879 - val_f1: 0.9878\n",
            "Epoch 8/20\n",
            "946/946 [==============================] - 103s 109ms/step - loss: 0.0864 - acc: 0.9887 - f1: 0.9887 - val_loss: 0.0920 - val_acc: 0.9886 - val_f1: 0.9887\n",
            "Epoch 9/20\n",
            "946/946 [==============================] - 104s 110ms/step - loss: 0.0754 - acc: 0.9892 - f1: 0.9893 - val_loss: 0.0849 - val_acc: 0.9901 - val_f1: 0.9900\n",
            "Epoch 10/20\n",
            "946/946 [==============================] - 103s 109ms/step - loss: 0.0678 - acc: 0.9900 - f1: 0.9901 - val_loss: 0.0811 - val_acc: 0.9847 - val_f1: 0.9848\n",
            "Epoch 11/20\n",
            "946/946 [==============================] - 104s 110ms/step - loss: 0.0632 - acc: 0.9898 - f1: 0.9900 - val_loss: 0.0749 - val_acc: 0.9908 - val_f1: 0.9909\n",
            "Epoch 12/20\n",
            "946/946 [==============================] - 104s 110ms/step - loss: 0.0590 - acc: 0.9909 - f1: 0.9910 - val_loss: 0.0700 - val_acc: 0.9898 - val_f1: 0.9898\n",
            "Epoch 13/20\n",
            "946/946 [==============================] - 104s 110ms/step - loss: 0.0557 - acc: 0.9909 - f1: 0.9910 - val_loss: 0.0680 - val_acc: 0.9901 - val_f1: 0.9902\n",
            "Epoch 14/20\n",
            "946/946 [==============================] - 104s 109ms/step - loss: 0.0525 - acc: 0.9918 - f1: 0.9919 - val_loss: 0.0659 - val_acc: 0.9907 - val_f1: 0.9909\n",
            "Epoch 15/20\n",
            "946/946 [==============================] - 105s 111ms/step - loss: 0.0497 - acc: 0.9921 - f1: 0.9922 - val_loss: 0.0639 - val_acc: 0.9908 - val_f1: 0.9909\n",
            "Epoch 16/20\n",
            "946/946 [==============================] - 104s 110ms/step - loss: 0.0479 - acc: 0.9924 - f1: 0.9924 - val_loss: 0.0626 - val_acc: 0.9903 - val_f1: 0.9905\n",
            "Epoch 17/20\n",
            "946/946 [==============================] - 102s 108ms/step - loss: 0.0467 - acc: 0.9925 - f1: 0.9926 - val_loss: 0.0618 - val_acc: 0.9892 - val_f1: 0.9893\n",
            "Epoch 18/20\n",
            "946/946 [==============================] - 103s 109ms/step - loss: 0.0447 - acc: 0.9928 - f1: 0.9929 - val_loss: 0.0599 - val_acc: 0.9911 - val_f1: 0.9912\n",
            "Epoch 19/20\n",
            "946/946 [==============================] - 103s 109ms/step - loss: 0.0429 - acc: 0.9931 - f1: 0.9931 - val_loss: 0.0588 - val_acc: 0.9916 - val_f1: 0.9916\n",
            "Epoch 20/20\n",
            "946/946 [==============================] - 105s 111ms/step - loss: 0.0424 - acc: 0.9930 - f1: 0.9930 - val_loss: 0.0582 - val_acc: 0.9921 - val_f1: 0.9922\n"
          ],
          "name": "stdout"
        }
      ]
    },
    {
      "cell_type": "code",
      "metadata": {
        "id": "nIkW96z8fP5z",
        "colab_type": "code",
        "outputId": "5d67f866-5187-4003-8f9d-c6c640575761",
        "colab": {
          "base_uri": "https://localhost:8080/",
          "height": 281
        }
      },
      "source": [
        "from matplotlib import pyplot as plt\n",
        "from pylab import rcParams\n",
        "\n",
        "rcParams['figure.figsize'] = 12, 4\n",
        "\n",
        "plt.subplot(1, 2, 1)\n",
        "plt.title('Loss per epoch')\n",
        "plt.plot(history.history['loss'], 'b.')\n",
        "plt.plot(history.history['val_loss'], 'b-')\n",
        "\n",
        "plt.subplot(1, 2, 2)\n",
        "plt.title('F1 per epoch')\n",
        "plt.plot(history.history['f1'], 'b.')\n",
        "plt.plot(history.history['val_f1'], 'b-')\n",
        "plt.show()"
      ],
      "execution_count": 0,
      "outputs": [
        {
          "output_type": "display_data",
          "data": {
            "image/png": "[encoded data removed]",
            "text/plain": [
              "<Figure size 864x288 with 2 Axes>"
            ]
          },
          "metadata": {
            "tags": []
          }
        }
      ]
    },
    {
      "cell_type": "code",
      "metadata": {
        "id": "VvsLH3wYDhY6",
        "colab_type": "code",
        "colab": {}
      },
      "source": [
        "def predict_iob(wids):\n",
        "  \n",
        "  global model\n",
        "  \n",
        "  if type(wids) is list:\n",
        "    word_ids = np.array(wids)\n",
        "  else:\n",
        "    word_ids = wids\n",
        "\n",
        "  iobs = model.predict(word_ids.reshape(1, -1), batch_size=1).reshape(-1, 3)\n",
        "  iobs = np.argmax(iobs[:len(wids)], axis=-1)\n",
        "\n",
        "  return iobs"
      ],
      "execution_count": 0,
      "outputs": []
    },
    {
      "cell_type": "markdown",
      "metadata": {
        "id": "Vj3wSVIVrsRo",
        "colab_type": "text"
      },
      "source": [
        "## Simple Entity Disambiguator"
      ]
    },
    {
      "cell_type": "code",
      "metadata": {
        "id": "RxL0MPA1YA87",
        "colab_type": "code",
        "colab": {}
      },
      "source": [
        "def baseline_disamb(mention, word2id, wid2wikiids, epsilon=0.001):\n",
        "    \n",
        "  candidates = {}\n",
        "  \n",
        "  if type(mention) is str:\n",
        "    mention_words = list(filter(lambda w: w in word2id, split_name(mention)))\n",
        "    mention_ids = list(map(lambda w: word2id[w], mention_words))\n",
        "\n",
        "  elif type(mention) is list and type(mention[0]) is str:\n",
        "    mention_ids = list(map(lambda w: word2id[w], mention))\n",
        "    \n",
        "  else:\n",
        "    mention_ids = mention\n",
        "  \n",
        "  for wid in mention_ids:\n",
        "    if wid not in wid2wikiids:\n",
        "      continue\n",
        "    for wikiid, score in wid2wikiids[wid].items():\n",
        "      if wikiid in candidates:\n",
        "        candidates[wikiid][wid] = score\n",
        "      else:\n",
        "        candidates[wikiid] = {wid: score}\n",
        "  \n",
        "  scores = {}\n",
        "  \n",
        "  for wikiid, word_scores in candidates.items():\n",
        "    score = 0\n",
        "    for wid, sc in word_scores.items():\n",
        "      score += sc\n",
        "    scores[wikiid] = score\n",
        "    \n",
        "  \n",
        "  max_score, best_candidate = 0, -1   # unk entity id\n",
        "  for cand, score in scores.items():\n",
        "    if score > max_score:\n",
        "      max_score = score\n",
        "      best_candidate = cand\n",
        "      \n",
        "  return best_candidate"
      ],
      "execution_count": 0,
      "outputs": []
    },
    {
      "cell_type": "code",
      "metadata": {
        "id": "AAMzAP2onqWh",
        "colab_type": "code",
        "outputId": "173def5d-a2a9-42e0-e529-267d1a3f5e27",
        "colab": {
          "base_uri": "https://localhost:8080/",
          "height": 34
        }
      },
      "source": [
        "wikiid2name[baseline_disamb('Barcelona', word2id, wid2wikiids)]"
      ],
      "execution_count": 0,
      "outputs": [
        {
          "output_type": "execute_result",
          "data": {
            "text/plain": [
              "'FC Barcelona'"
            ]
          },
          "metadata": {
            "tags": []
          },
          "execution_count": 136
        }
      ]
    },
    {
      "cell_type": "code",
      "metadata": {
        "id": "gP-Rg4zl5tPN",
        "colab_type": "code",
        "colab": {}
      },
      "source": [
        "def disamb_tagged_doc(wids, iobs):\n",
        "  \n",
        "  best = {}\n",
        "  \n",
        "  start, end = -1, -1\n",
        "  \n",
        "  for idx, tag in enumerate(iobs):\n",
        "    if tag in [0, 1] and start >= 0:\n",
        "      best[f'{start}:{end}'] = baseline_disamb(wids[start:end+1], word2id, wid2wikiids)\n",
        "      start, end = -1, -1\n",
        "      \n",
        "    if tag == 1:    # iob_b\n",
        "      start, end = idx, idx\n",
        "      \n",
        "    if tag == 2:\n",
        "      end = idx\n",
        "      \n",
        "  if start >= 0:\n",
        "    best[f'{start}:{end}'] = baseline_disamb(wids[start:end+1], word2id, wid2wikiids)\n",
        "      \n",
        "  return best"
      ],
      "execution_count": 0,
      "outputs": []
    },
    {
      "cell_type": "markdown",
      "metadata": {
        "id": "8CCaZvFq-HFR",
        "colab_type": "text"
      },
      "source": [
        "# 3. Evaluate Model"
      ]
    },
    {
      "cell_type": "markdown",
      "metadata": {
        "id": "WeJ3CEtLkxSg",
        "colab_type": "text"
      },
      "source": [
        "## Load Saved Mention Detector"
      ]
    },
    {
      "cell_type": "code",
      "metadata": {
        "id": "G8a31JJTpf75",
        "colab_type": "code",
        "colab": {}
      },
      "source": [
        "import os\n",
        "from keras.models import load_model\n",
        "\n",
        "if not os.path.exists('md_model.h5'):\n",
        "  ! cp drive/My\\ Drive/e2e_el/md_model.h5 md_model.h5\n",
        "\n",
        "model = load_model('md_model.h5', custom_objects={'f1': f1})"
      ],
      "execution_count": 0,
      "outputs": []
    },
    {
      "cell_type": "markdown",
      "metadata": {
        "id": "he99KsvOk5ZH",
        "colab_type": "text"
      },
      "source": [
        "## Test Model With Arbitary Input Text"
      ]
    },
    {
      "cell_type": "code",
      "metadata": {
        "id": "2q54kWy_lZZ0",
        "colab_type": "code",
        "colab": {}
      },
      "source": [
        "def text_to_entity_names(text, human_readable=True):\n",
        "  \n",
        "  clean = [w for w in text.split(' ') if w in word2id]\n",
        "  word_ids = np.array([word2id[w] for w in clean])\n",
        "  \n",
        "  iobs = predict_iob(word_ids)\n",
        "  disambiguated = disamb_tagged_doc(word_ids, iobs)\n",
        "\n",
        "  if not human_readable:\n",
        "    return disambiguated\n",
        "  \n",
        "  human_readable = {}\n",
        "  \n",
        "  for boundary, wikiid in disambiguated.items():\n",
        "    start, end = tuple(map(int, boundary.split(':')))\n",
        "    mention = ' '.join([f'[{boundary:5s}]'] + clean[start:end+1])\n",
        "    human_readable[mention] = wikiid2name[wikiid]\n",
        "  \n",
        "  return human_readable"
      ],
      "execution_count": 0,
      "outputs": []
    },
    {
      "cell_type": "code",
      "metadata": {
        "id": "VGHLtvcMmI4f",
        "colab_type": "code",
        "outputId": "90dc53ad-8d53-4aba-aa7e-80429f9ff17d",
        "colab": {
          "base_uri": "https://localhost:8080/",
          "height": 102
        }
      },
      "source": [
        "from_testa = 'They were held up by a gritty 84 from Paul Johnson but ex-England fast bowler Martin McCague took four for 55 .'\n",
        "politics = sentence = 'President Barack Obama last week said he will impose a blanket tariff on Mexican imports from June 10 to try to pressure Mexico to tackle large flows of mostly Central American migrants passing through en route to the United States'\n",
        "sports = 'Barcelona plays with Sevilla'\n",
        "\n",
        "text_to_entity_names(politics)"
      ],
      "execution_count": 0,
      "outputs": [
        {
          "output_type": "execute_result",
          "data": {
            "text/plain": [
              "{'[13:13] Mexican': 'Mexico',\n",
              " '[1:2  ] Barack Obama': 'Barack Obama',\n",
              " '[22:22] Mexico': 'Mexico',\n",
              " '[29:30] Central American': 'United States',\n",
              " '[38:39] United States': 'United States'}"
            ]
          },
          "metadata": {
            "tags": []
          },
          "execution_count": 140
        }
      ]
    },
    {
      "cell_type": "markdown",
      "metadata": {
        "id": "ErJwnTSslIo1",
        "colab_type": "text"
      },
      "source": [
        "## Functions to evaluate Model"
      ]
    },
    {
      "cell_type": "code",
      "metadata": {
        "id": "5MPfcRO08Eeh",
        "colab_type": "code",
        "colab": {}
      },
      "source": [
        "def count_correct(predicted, gold, strong_match=True, return_totals=True):\n",
        "  \n",
        "  total_pred, total_gold = len(predicted), len(gold)\n",
        "  correct = 0\n",
        "  \n",
        "  if strong_match:\n",
        "    for b in predicted.keys():\n",
        "      if b in gold and predicted[b] == gold[b]:\n",
        "        correct += 1\n",
        "  else:\n",
        "    for b, e in gold.items():\n",
        "      for pb, pe in predicted.items():\n",
        "        if pe == e:\n",
        "          g_start, g_end = int(b.split(':')[0]), int(b.split(':')[1])\n",
        "          p_start, p_end = int(pb.split(':')[0]), int(pb.split(':')[1])\n",
        "          if p_start in range(g_start, g_end+1) or p_end in range(g_start, g_end+1):\n",
        "            correct += 1\n",
        "\n",
        "  if return_totals:\n",
        "    return correct, total_pred, total_gold\n",
        "  else:\n",
        "    return correct"
      ],
      "execution_count": 0,
      "outputs": []
    },
    {
      "cell_type": "code",
      "metadata": {
        "id": "yakmAuuyzNLQ",
        "colab_type": "code",
        "colab": {}
      },
      "source": [
        "from commons import show_progress\n",
        "\n",
        "def calculate_micro_f1(aida_path='aida-testa.tsv', total_docs=216, strong_match=True):\n",
        "  \n",
        "  total_pred = 0       # number of entities in predictions\n",
        "  total_gold = 0       # number of gold entities in test set\n",
        "  correct = 0          # number of predicted entities that match entity\n",
        "                       # and boundary (in strong match)\n",
        "  doc_idx = 0\n",
        "\n",
        "  for wids, golds in process_aida.gen_doc_with_golds(aida_path, word2id):\n",
        "\n",
        "    show_progress(percent=doc_idx/total_docs)\n",
        "    \n",
        "    iobs = predict_iob(wids)\n",
        "    predicted = disamb_tagged_doc(wids, iobs)\n",
        "    corr, tot_pred, tot_gold = count_correct(predicted, golds,\n",
        "                                            strong_match=strong_match)\n",
        "    total_pred += tot_pred\n",
        "    correct += corr\n",
        "    total_gold += tot_gold\n",
        "    \n",
        "    doc_idx += 1\n",
        "  \n",
        "  show_progress(percent=1.0, done=True)\n",
        "  \n",
        "  precision, recall = correct/total_pred, correct/total_gold\n",
        "  f_score = (2 * precision * recall) / (precision + recall)\n",
        "  \n",
        "  return precision, recall, f_score"
      ],
      "execution_count": 0,
      "outputs": []
    },
    {
      "cell_type": "markdown",
      "metadata": {
        "id": "BFxIFuWBj8lX",
        "colab_type": "text"
      },
      "source": [
        "## Micro F1 Scores for Baseline"
      ]
    },
    {
      "cell_type": "code",
      "metadata": {
        "id": "fhly7f1Ojhz8",
        "colab_type": "code",
        "outputId": "6941bdde-5b34-4e29-8c08-36fd135e55e5",
        "colab": {
          "base_uri": "https://localhost:8080/",
          "height": 102
        }
      },
      "source": [
        "precision, recall, f_score = calculate_micro_f1(strong_match=False)\n",
        "print(f'evaluation on aida validation set with weak matching:')\n",
        "print(f'precision: {precision:.3f}\\nrecall:    {recall:.3f}\\nf1-score:  {f_score:.3f}')"
      ],
      "execution_count": 0,
      "outputs": [
        {
          "output_type": "stream",
          "text": [
            "[===================================================] 100% done!\n",
            "evaluation on aida validation set with weak matching:\n",
            "precision: 0.556\n",
            "recall:    0.728\n",
            "f1-score:  0.631\n"
          ],
          "name": "stdout"
        }
      ]
    },
    {
      "cell_type": "code",
      "metadata": {
        "id": "IkWjaH6FkC_N",
        "colab_type": "code",
        "outputId": "af9414c2-e3b5-4b6c-edca-f7939d22858a",
        "colab": {
          "base_uri": "https://localhost:8080/",
          "height": 102
        }
      },
      "source": [
        "precision, recall, f_score = calculate_micro_f1(strong_match=True)\n",
        "print(f'evaluation on aida validation set with strong matching:')\n",
        "print(f'precision: {precision:.3f}\\nrecall:    {recall:.3f}\\nf1-score:  {f_score:.3f}')"
      ],
      "execution_count": 0,
      "outputs": [
        {
          "output_type": "stream",
          "text": [
            "[===================================================] 100% done!\n",
            "evaluation on aida validation set with strong matching:\n",
            "precision: 0.524\n",
            "recall:    0.686\n",
            "f1-score:  0.594\n"
          ],
          "name": "stdout"
        }
      ]
    },
    {
      "cell_type": "code",
      "metadata": {
        "id": "B0qBtwzjjn0L",
        "colab_type": "code",
        "outputId": "579cb5d9-ae17-4724-c552-413abdea35fb",
        "colab": {
          "base_uri": "https://localhost:8080/",
          "height": 102
        }
      },
      "source": [
        "precision, recall, f_score = calculate_micro_f1(aida_path='aida-testb.tsv',\n",
        "                                                strong_match=False)\n",
        "print(f'evaluation on aida test set with weak matching:')\n",
        "print(f'precision: {precision:.3f}\\nrecall:    {recall:.3f}\\nf1-score:  {f_score:.3f}')"
      ],
      "execution_count": 0,
      "outputs": [
        {
          "output_type": "stream",
          "text": [
            "[===================================================] 100% done!\n",
            "evaluation on aida test set with weak matching:\n",
            "precision: 0.448\n",
            "recall:    0.619\n",
            "f1-score:  0.520\n"
          ],
          "name": "stdout"
        }
      ]
    },
    {
      "cell_type": "code",
      "metadata": {
        "id": "OkqU-RWbjoXR",
        "colab_type": "code",
        "outputId": "fef8ea8d-6858-4e77-f72b-9531a8590701",
        "colab": {
          "base_uri": "https://localhost:8080/",
          "height": 102
        }
      },
      "source": [
        "precision, recall, f_score = calculate_micro_f1(aida_path='aida-testb.tsv',\n",
        "                                                strong_match=True)\n",
        "print(f'evaluation on aida test set with strong matching:')\n",
        "print(f'precision: {precision:.3f}\\nrecall:    {recall:.3f}\\nf1-score:  {f_score:.3f}')"
      ],
      "execution_count": 0,
      "outputs": [
        {
          "output_type": "stream",
          "text": [
            "[===================================================] 100% done!\n",
            "evaluation on aida test set with strong matching:\n",
            "precision: 0.415\n",
            "recall:    0.573\n",
            "f1-score:  0.481\n"
          ],
          "name": "stdout"
        }
      ]
    },
    {
      "cell_type": "markdown",
      "metadata": {
        "id": "LQbEnly9BsXV",
        "colab_type": "text"
      },
      "source": [
        "# 4. Extras"
      ]
    },
    {
      "cell_type": "code",
      "metadata": {
        "id": "0hsw_c2XRi0w",
        "colab_type": "code",
        "colab": {}
      },
      "source": [
        "import sys\n",
        "\n",
        "ram = 0\n",
        "\n",
        "for var, obj in locals().items():\n",
        "  if sys.getsizeof(obj) > 10**6:\n",
        "    print(f'{var:16s}: {sys.getsizeof(obj) / 10**6}')\n",
        "  ram += sys.getsizeof(obj)\n",
        "\n",
        "print(f'used ram: {ram / 10**6}')"
      ],
      "execution_count": 0,
      "outputs": []
    }
  ]
}